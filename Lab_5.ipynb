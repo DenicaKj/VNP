{
  "nbformat": 4,
  "nbformat_minor": 0,
  "metadata": {
    "colab": {
      "provenance": [],
      "include_colab_link": true
    },
    "kernelspec": {
      "name": "python3",
      "display_name": "Python 3"
    },
    "accelerator": "GPU",
    "gpuClass": "standard",
    "widgets": {
      "application/vnd.jupyter.widget-state+json": {
        "0d5a5332ba484c6f9c5196017aa1478f": {
          "model_module": "@jupyter-widgets/controls",
          "model_name": "HBoxModel",
          "model_module_version": "1.5.0",
          "state": {
            "_dom_classes": [],
            "_model_module": "@jupyter-widgets/controls",
            "_model_module_version": "1.5.0",
            "_model_name": "HBoxModel",
            "_view_count": null,
            "_view_module": "@jupyter-widgets/controls",
            "_view_module_version": "1.5.0",
            "_view_name": "HBoxView",
            "box_style": "",
            "children": [
              "IPY_MODEL_4374d2e2d1d64ce6b51684c8d0110a68",
              "IPY_MODEL_eeb9f897f0be48ec88c2647bc8e33890",
              "IPY_MODEL_53d961f832a14f4a919e381d2bb0e6fb"
            ],
            "layout": "IPY_MODEL_b78fc6b4b65b4b05a0c7d9e614dd7d5e"
          }
        },
        "4374d2e2d1d64ce6b51684c8d0110a68": {
          "model_module": "@jupyter-widgets/controls",
          "model_name": "HTMLModel",
          "model_module_version": "1.5.0",
          "state": {
            "_dom_classes": [],
            "_model_module": "@jupyter-widgets/controls",
            "_model_module_version": "1.5.0",
            "_model_name": "HTMLModel",
            "_view_count": null,
            "_view_module": "@jupyter-widgets/controls",
            "_view_module_version": "1.5.0",
            "_view_name": "HTMLView",
            "description": "",
            "description_tooltip": null,
            "layout": "IPY_MODEL_29c07240476a47a58b29cd14f950de8e",
            "placeholder": "​",
            "style": "IPY_MODEL_1d911d29b5234bd8926c428287c0c862",
            "value": "100%"
          }
        },
        "eeb9f897f0be48ec88c2647bc8e33890": {
          "model_module": "@jupyter-widgets/controls",
          "model_name": "FloatProgressModel",
          "model_module_version": "1.5.0",
          "state": {
            "_dom_classes": [],
            "_model_module": "@jupyter-widgets/controls",
            "_model_module_version": "1.5.0",
            "_model_name": "FloatProgressModel",
            "_view_count": null,
            "_view_module": "@jupyter-widgets/controls",
            "_view_module_version": "1.5.0",
            "_view_name": "ProgressView",
            "bar_style": "success",
            "description": "",
            "description_tooltip": null,
            "layout": "IPY_MODEL_b027a5c5fb8f41e2908425ba82fed957",
            "max": 2,
            "min": 0,
            "orientation": "horizontal",
            "style": "IPY_MODEL_502a2d333ea74b7c8f491084d334b7c7",
            "value": 2
          }
        },
        "53d961f832a14f4a919e381d2bb0e6fb": {
          "model_module": "@jupyter-widgets/controls",
          "model_name": "HTMLModel",
          "model_module_version": "1.5.0",
          "state": {
            "_dom_classes": [],
            "_model_module": "@jupyter-widgets/controls",
            "_model_module_version": "1.5.0",
            "_model_name": "HTMLModel",
            "_view_count": null,
            "_view_module": "@jupyter-widgets/controls",
            "_view_module_version": "1.5.0",
            "_view_name": "HTMLView",
            "description": "",
            "description_tooltip": null,
            "layout": "IPY_MODEL_d2af54c4ca4d46a3a7300ac49852ec68",
            "placeholder": "​",
            "style": "IPY_MODEL_36d0b36d976c4e898bf0f063ae0c2782",
            "value": " 2/2 [00:00&lt;00:00, 35.76it/s]"
          }
        },
        "b78fc6b4b65b4b05a0c7d9e614dd7d5e": {
          "model_module": "@jupyter-widgets/base",
          "model_name": "LayoutModel",
          "model_module_version": "1.2.0",
          "state": {
            "_model_module": "@jupyter-widgets/base",
            "_model_module_version": "1.2.0",
            "_model_name": "LayoutModel",
            "_view_count": null,
            "_view_module": "@jupyter-widgets/base",
            "_view_module_version": "1.2.0",
            "_view_name": "LayoutView",
            "align_content": null,
            "align_items": null,
            "align_self": null,
            "border": null,
            "bottom": null,
            "display": null,
            "flex": null,
            "flex_flow": null,
            "grid_area": null,
            "grid_auto_columns": null,
            "grid_auto_flow": null,
            "grid_auto_rows": null,
            "grid_column": null,
            "grid_gap": null,
            "grid_row": null,
            "grid_template_areas": null,
            "grid_template_columns": null,
            "grid_template_rows": null,
            "height": null,
            "justify_content": null,
            "justify_items": null,
            "left": null,
            "margin": null,
            "max_height": null,
            "max_width": null,
            "min_height": null,
            "min_width": null,
            "object_fit": null,
            "object_position": null,
            "order": null,
            "overflow": null,
            "overflow_x": null,
            "overflow_y": null,
            "padding": null,
            "right": null,
            "top": null,
            "visibility": null,
            "width": null
          }
        },
        "29c07240476a47a58b29cd14f950de8e": {
          "model_module": "@jupyter-widgets/base",
          "model_name": "LayoutModel",
          "model_module_version": "1.2.0",
          "state": {
            "_model_module": "@jupyter-widgets/base",
            "_model_module_version": "1.2.0",
            "_model_name": "LayoutModel",
            "_view_count": null,
            "_view_module": "@jupyter-widgets/base",
            "_view_module_version": "1.2.0",
            "_view_name": "LayoutView",
            "align_content": null,
            "align_items": null,
            "align_self": null,
            "border": null,
            "bottom": null,
            "display": null,
            "flex": null,
            "flex_flow": null,
            "grid_area": null,
            "grid_auto_columns": null,
            "grid_auto_flow": null,
            "grid_auto_rows": null,
            "grid_column": null,
            "grid_gap": null,
            "grid_row": null,
            "grid_template_areas": null,
            "grid_template_columns": null,
            "grid_template_rows": null,
            "height": null,
            "justify_content": null,
            "justify_items": null,
            "left": null,
            "margin": null,
            "max_height": null,
            "max_width": null,
            "min_height": null,
            "min_width": null,
            "object_fit": null,
            "object_position": null,
            "order": null,
            "overflow": null,
            "overflow_x": null,
            "overflow_y": null,
            "padding": null,
            "right": null,
            "top": null,
            "visibility": null,
            "width": null
          }
        },
        "1d911d29b5234bd8926c428287c0c862": {
          "model_module": "@jupyter-widgets/controls",
          "model_name": "DescriptionStyleModel",
          "model_module_version": "1.5.0",
          "state": {
            "_model_module": "@jupyter-widgets/controls",
            "_model_module_version": "1.5.0",
            "_model_name": "DescriptionStyleModel",
            "_view_count": null,
            "_view_module": "@jupyter-widgets/base",
            "_view_module_version": "1.2.0",
            "_view_name": "StyleView",
            "description_width": ""
          }
        },
        "b027a5c5fb8f41e2908425ba82fed957": {
          "model_module": "@jupyter-widgets/base",
          "model_name": "LayoutModel",
          "model_module_version": "1.2.0",
          "state": {
            "_model_module": "@jupyter-widgets/base",
            "_model_module_version": "1.2.0",
            "_model_name": "LayoutModel",
            "_view_count": null,
            "_view_module": "@jupyter-widgets/base",
            "_view_module_version": "1.2.0",
            "_view_name": "LayoutView",
            "align_content": null,
            "align_items": null,
            "align_self": null,
            "border": null,
            "bottom": null,
            "display": null,
            "flex": null,
            "flex_flow": null,
            "grid_area": null,
            "grid_auto_columns": null,
            "grid_auto_flow": null,
            "grid_auto_rows": null,
            "grid_column": null,
            "grid_gap": null,
            "grid_row": null,
            "grid_template_areas": null,
            "grid_template_columns": null,
            "grid_template_rows": null,
            "height": null,
            "justify_content": null,
            "justify_items": null,
            "left": null,
            "margin": null,
            "max_height": null,
            "max_width": null,
            "min_height": null,
            "min_width": null,
            "object_fit": null,
            "object_position": null,
            "order": null,
            "overflow": null,
            "overflow_x": null,
            "overflow_y": null,
            "padding": null,
            "right": null,
            "top": null,
            "visibility": null,
            "width": null
          }
        },
        "502a2d333ea74b7c8f491084d334b7c7": {
          "model_module": "@jupyter-widgets/controls",
          "model_name": "ProgressStyleModel",
          "model_module_version": "1.5.0",
          "state": {
            "_model_module": "@jupyter-widgets/controls",
            "_model_module_version": "1.5.0",
            "_model_name": "ProgressStyleModel",
            "_view_count": null,
            "_view_module": "@jupyter-widgets/base",
            "_view_module_version": "1.2.0",
            "_view_name": "StyleView",
            "bar_color": null,
            "description_width": ""
          }
        },
        "d2af54c4ca4d46a3a7300ac49852ec68": {
          "model_module": "@jupyter-widgets/base",
          "model_name": "LayoutModel",
          "model_module_version": "1.2.0",
          "state": {
            "_model_module": "@jupyter-widgets/base",
            "_model_module_version": "1.2.0",
            "_model_name": "LayoutModel",
            "_view_count": null,
            "_view_module": "@jupyter-widgets/base",
            "_view_module_version": "1.2.0",
            "_view_name": "LayoutView",
            "align_content": null,
            "align_items": null,
            "align_self": null,
            "border": null,
            "bottom": null,
            "display": null,
            "flex": null,
            "flex_flow": null,
            "grid_area": null,
            "grid_auto_columns": null,
            "grid_auto_flow": null,
            "grid_auto_rows": null,
            "grid_column": null,
            "grid_gap": null,
            "grid_row": null,
            "grid_template_areas": null,
            "grid_template_columns": null,
            "grid_template_rows": null,
            "height": null,
            "justify_content": null,
            "justify_items": null,
            "left": null,
            "margin": null,
            "max_height": null,
            "max_width": null,
            "min_height": null,
            "min_width": null,
            "object_fit": null,
            "object_position": null,
            "order": null,
            "overflow": null,
            "overflow_x": null,
            "overflow_y": null,
            "padding": null,
            "right": null,
            "top": null,
            "visibility": null,
            "width": null
          }
        },
        "36d0b36d976c4e898bf0f063ae0c2782": {
          "model_module": "@jupyter-widgets/controls",
          "model_name": "DescriptionStyleModel",
          "model_module_version": "1.5.0",
          "state": {
            "_model_module": "@jupyter-widgets/controls",
            "_model_module_version": "1.5.0",
            "_model_name": "DescriptionStyleModel",
            "_view_count": null,
            "_view_module": "@jupyter-widgets/base",
            "_view_module_version": "1.2.0",
            "_view_name": "StyleView",
            "description_width": ""
          }
        },
        "c15f9d9175e54a9f91da4ac404219136": {
          "model_module": "@jupyter-widgets/controls",
          "model_name": "HBoxModel",
          "model_module_version": "1.5.0",
          "state": {
            "_dom_classes": [],
            "_model_module": "@jupyter-widgets/controls",
            "_model_module_version": "1.5.0",
            "_model_name": "HBoxModel",
            "_view_count": null,
            "_view_module": "@jupyter-widgets/controls",
            "_view_module_version": "1.5.0",
            "_view_name": "HBoxView",
            "box_style": "",
            "children": [
              "IPY_MODEL_2525b734ab664b40a8aa18254ddf2bc2",
              "IPY_MODEL_98030f77d7be4c89bb08def3f6382278",
              "IPY_MODEL_3d65f6c91054444aac4a96131e103eb5"
            ],
            "layout": "IPY_MODEL_d1262211954b417b992a8341b84bdbf0"
          }
        },
        "2525b734ab664b40a8aa18254ddf2bc2": {
          "model_module": "@jupyter-widgets/controls",
          "model_name": "HTMLModel",
          "model_module_version": "1.5.0",
          "state": {
            "_dom_classes": [],
            "_model_module": "@jupyter-widgets/controls",
            "_model_module_version": "1.5.0",
            "_model_name": "HTMLModel",
            "_view_count": null,
            "_view_module": "@jupyter-widgets/controls",
            "_view_module_version": "1.5.0",
            "_view_name": "HTMLView",
            "description": "",
            "description_tooltip": null,
            "layout": "IPY_MODEL_c58924540d4d42868c2c3b76a6d2da54",
            "placeholder": "​",
            "style": "IPY_MODEL_5db0a884caae4798bca55f349fd3c83f",
            "value": "100%"
          }
        },
        "98030f77d7be4c89bb08def3f6382278": {
          "model_module": "@jupyter-widgets/controls",
          "model_name": "FloatProgressModel",
          "model_module_version": "1.5.0",
          "state": {
            "_dom_classes": [],
            "_model_module": "@jupyter-widgets/controls",
            "_model_module_version": "1.5.0",
            "_model_name": "FloatProgressModel",
            "_view_count": null,
            "_view_module": "@jupyter-widgets/controls",
            "_view_module_version": "1.5.0",
            "_view_name": "ProgressView",
            "bar_style": "success",
            "description": "",
            "description_tooltip": null,
            "layout": "IPY_MODEL_c04e3b76b66a41979c44c01e3bcbe1c4",
            "max": 8,
            "min": 0,
            "orientation": "horizontal",
            "style": "IPY_MODEL_c83fcfc970fd40b380b641b82e5b9546",
            "value": 8
          }
        },
        "3d65f6c91054444aac4a96131e103eb5": {
          "model_module": "@jupyter-widgets/controls",
          "model_name": "HTMLModel",
          "model_module_version": "1.5.0",
          "state": {
            "_dom_classes": [],
            "_model_module": "@jupyter-widgets/controls",
            "_model_module_version": "1.5.0",
            "_model_name": "HTMLModel",
            "_view_count": null,
            "_view_module": "@jupyter-widgets/controls",
            "_view_module_version": "1.5.0",
            "_view_name": "HTMLView",
            "description": "",
            "description_tooltip": null,
            "layout": "IPY_MODEL_bc5c3e60e6614b84a6f637fe3b592205",
            "placeholder": "​",
            "style": "IPY_MODEL_5b9e9c5645794ee0ab9758485417ffae",
            "value": " 8/8 [00:00&lt;00:00,  8.32ba/s]"
          }
        },
        "d1262211954b417b992a8341b84bdbf0": {
          "model_module": "@jupyter-widgets/base",
          "model_name": "LayoutModel",
          "model_module_version": "1.2.0",
          "state": {
            "_model_module": "@jupyter-widgets/base",
            "_model_module_version": "1.2.0",
            "_model_name": "LayoutModel",
            "_view_count": null,
            "_view_module": "@jupyter-widgets/base",
            "_view_module_version": "1.2.0",
            "_view_name": "LayoutView",
            "align_content": null,
            "align_items": null,
            "align_self": null,
            "border": null,
            "bottom": null,
            "display": null,
            "flex": null,
            "flex_flow": null,
            "grid_area": null,
            "grid_auto_columns": null,
            "grid_auto_flow": null,
            "grid_auto_rows": null,
            "grid_column": null,
            "grid_gap": null,
            "grid_row": null,
            "grid_template_areas": null,
            "grid_template_columns": null,
            "grid_template_rows": null,
            "height": null,
            "justify_content": null,
            "justify_items": null,
            "left": null,
            "margin": null,
            "max_height": null,
            "max_width": null,
            "min_height": null,
            "min_width": null,
            "object_fit": null,
            "object_position": null,
            "order": null,
            "overflow": null,
            "overflow_x": null,
            "overflow_y": null,
            "padding": null,
            "right": null,
            "top": null,
            "visibility": null,
            "width": null
          }
        },
        "c58924540d4d42868c2c3b76a6d2da54": {
          "model_module": "@jupyter-widgets/base",
          "model_name": "LayoutModel",
          "model_module_version": "1.2.0",
          "state": {
            "_model_module": "@jupyter-widgets/base",
            "_model_module_version": "1.2.0",
            "_model_name": "LayoutModel",
            "_view_count": null,
            "_view_module": "@jupyter-widgets/base",
            "_view_module_version": "1.2.0",
            "_view_name": "LayoutView",
            "align_content": null,
            "align_items": null,
            "align_self": null,
            "border": null,
            "bottom": null,
            "display": null,
            "flex": null,
            "flex_flow": null,
            "grid_area": null,
            "grid_auto_columns": null,
            "grid_auto_flow": null,
            "grid_auto_rows": null,
            "grid_column": null,
            "grid_gap": null,
            "grid_row": null,
            "grid_template_areas": null,
            "grid_template_columns": null,
            "grid_template_rows": null,
            "height": null,
            "justify_content": null,
            "justify_items": null,
            "left": null,
            "margin": null,
            "max_height": null,
            "max_width": null,
            "min_height": null,
            "min_width": null,
            "object_fit": null,
            "object_position": null,
            "order": null,
            "overflow": null,
            "overflow_x": null,
            "overflow_y": null,
            "padding": null,
            "right": null,
            "top": null,
            "visibility": null,
            "width": null
          }
        },
        "5db0a884caae4798bca55f349fd3c83f": {
          "model_module": "@jupyter-widgets/controls",
          "model_name": "DescriptionStyleModel",
          "model_module_version": "1.5.0",
          "state": {
            "_model_module": "@jupyter-widgets/controls",
            "_model_module_version": "1.5.0",
            "_model_name": "DescriptionStyleModel",
            "_view_count": null,
            "_view_module": "@jupyter-widgets/base",
            "_view_module_version": "1.2.0",
            "_view_name": "StyleView",
            "description_width": ""
          }
        },
        "c04e3b76b66a41979c44c01e3bcbe1c4": {
          "model_module": "@jupyter-widgets/base",
          "model_name": "LayoutModel",
          "model_module_version": "1.2.0",
          "state": {
            "_model_module": "@jupyter-widgets/base",
            "_model_module_version": "1.2.0",
            "_model_name": "LayoutModel",
            "_view_count": null,
            "_view_module": "@jupyter-widgets/base",
            "_view_module_version": "1.2.0",
            "_view_name": "LayoutView",
            "align_content": null,
            "align_items": null,
            "align_self": null,
            "border": null,
            "bottom": null,
            "display": null,
            "flex": null,
            "flex_flow": null,
            "grid_area": null,
            "grid_auto_columns": null,
            "grid_auto_flow": null,
            "grid_auto_rows": null,
            "grid_column": null,
            "grid_gap": null,
            "grid_row": null,
            "grid_template_areas": null,
            "grid_template_columns": null,
            "grid_template_rows": null,
            "height": null,
            "justify_content": null,
            "justify_items": null,
            "left": null,
            "margin": null,
            "max_height": null,
            "max_width": null,
            "min_height": null,
            "min_width": null,
            "object_fit": null,
            "object_position": null,
            "order": null,
            "overflow": null,
            "overflow_x": null,
            "overflow_y": null,
            "padding": null,
            "right": null,
            "top": null,
            "visibility": null,
            "width": null
          }
        },
        "c83fcfc970fd40b380b641b82e5b9546": {
          "model_module": "@jupyter-widgets/controls",
          "model_name": "ProgressStyleModel",
          "model_module_version": "1.5.0",
          "state": {
            "_model_module": "@jupyter-widgets/controls",
            "_model_module_version": "1.5.0",
            "_model_name": "ProgressStyleModel",
            "_view_count": null,
            "_view_module": "@jupyter-widgets/base",
            "_view_module_version": "1.2.0",
            "_view_name": "StyleView",
            "bar_color": null,
            "description_width": ""
          }
        },
        "bc5c3e60e6614b84a6f637fe3b592205": {
          "model_module": "@jupyter-widgets/base",
          "model_name": "LayoutModel",
          "model_module_version": "1.2.0",
          "state": {
            "_model_module": "@jupyter-widgets/base",
            "_model_module_version": "1.2.0",
            "_model_name": "LayoutModel",
            "_view_count": null,
            "_view_module": "@jupyter-widgets/base",
            "_view_module_version": "1.2.0",
            "_view_name": "LayoutView",
            "align_content": null,
            "align_items": null,
            "align_self": null,
            "border": null,
            "bottom": null,
            "display": null,
            "flex": null,
            "flex_flow": null,
            "grid_area": null,
            "grid_auto_columns": null,
            "grid_auto_flow": null,
            "grid_auto_rows": null,
            "grid_column": null,
            "grid_gap": null,
            "grid_row": null,
            "grid_template_areas": null,
            "grid_template_columns": null,
            "grid_template_rows": null,
            "height": null,
            "justify_content": null,
            "justify_items": null,
            "left": null,
            "margin": null,
            "max_height": null,
            "max_width": null,
            "min_height": null,
            "min_width": null,
            "object_fit": null,
            "object_position": null,
            "order": null,
            "overflow": null,
            "overflow_x": null,
            "overflow_y": null,
            "padding": null,
            "right": null,
            "top": null,
            "visibility": null,
            "width": null
          }
        },
        "5b9e9c5645794ee0ab9758485417ffae": {
          "model_module": "@jupyter-widgets/controls",
          "model_name": "DescriptionStyleModel",
          "model_module_version": "1.5.0",
          "state": {
            "_model_module": "@jupyter-widgets/controls",
            "_model_module_version": "1.5.0",
            "_model_name": "DescriptionStyleModel",
            "_view_count": null,
            "_view_module": "@jupyter-widgets/base",
            "_view_module_version": "1.2.0",
            "_view_name": "StyleView",
            "description_width": ""
          }
        },
        "6db8af6b91d34ef8b16300458957ec86": {
          "model_module": "@jupyter-widgets/controls",
          "model_name": "HBoxModel",
          "model_module_version": "1.5.0",
          "state": {
            "_dom_classes": [],
            "_model_module": "@jupyter-widgets/controls",
            "_model_module_version": "1.5.0",
            "_model_name": "HBoxModel",
            "_view_count": null,
            "_view_module": "@jupyter-widgets/controls",
            "_view_module_version": "1.5.0",
            "_view_name": "HBoxView",
            "box_style": "",
            "children": [
              "IPY_MODEL_3303941c3cbb4ce5a26ba868da4f398d",
              "IPY_MODEL_82f59e8c4774493e898e5689e7dbf766",
              "IPY_MODEL_42019e75e7e743339ef8fdc782313f0f"
            ],
            "layout": "IPY_MODEL_39ae06d93b714fb881e46c0087b71eca"
          }
        },
        "3303941c3cbb4ce5a26ba868da4f398d": {
          "model_module": "@jupyter-widgets/controls",
          "model_name": "HTMLModel",
          "model_module_version": "1.5.0",
          "state": {
            "_dom_classes": [],
            "_model_module": "@jupyter-widgets/controls",
            "_model_module_version": "1.5.0",
            "_model_name": "HTMLModel",
            "_view_count": null,
            "_view_module": "@jupyter-widgets/controls",
            "_view_module_version": "1.5.0",
            "_view_name": "HTMLView",
            "description": "",
            "description_tooltip": null,
            "layout": "IPY_MODEL_17d3fb08637244548c12fdd59c1d45ee",
            "placeholder": "​",
            "style": "IPY_MODEL_50c8d9ea6f3d4c07a8831dd539e26353",
            "value": "100%"
          }
        },
        "82f59e8c4774493e898e5689e7dbf766": {
          "model_module": "@jupyter-widgets/controls",
          "model_name": "FloatProgressModel",
          "model_module_version": "1.5.0",
          "state": {
            "_dom_classes": [],
            "_model_module": "@jupyter-widgets/controls",
            "_model_module_version": "1.5.0",
            "_model_name": "FloatProgressModel",
            "_view_count": null,
            "_view_module": "@jupyter-widgets/controls",
            "_view_module_version": "1.5.0",
            "_view_name": "ProgressView",
            "bar_style": "success",
            "description": "",
            "description_tooltip": null,
            "layout": "IPY_MODEL_146d303ab01242f49efc58b8c92b5211",
            "max": 4,
            "min": 0,
            "orientation": "horizontal",
            "style": "IPY_MODEL_db1e39d364c94100952ceae9d38eb0c2",
            "value": 4
          }
        },
        "42019e75e7e743339ef8fdc782313f0f": {
          "model_module": "@jupyter-widgets/controls",
          "model_name": "HTMLModel",
          "model_module_version": "1.5.0",
          "state": {
            "_dom_classes": [],
            "_model_module": "@jupyter-widgets/controls",
            "_model_module_version": "1.5.0",
            "_model_name": "HTMLModel",
            "_view_count": null,
            "_view_module": "@jupyter-widgets/controls",
            "_view_module_version": "1.5.0",
            "_view_name": "HTMLView",
            "description": "",
            "description_tooltip": null,
            "layout": "IPY_MODEL_07a3a7b996984e3081f2bf2b85fabdcb",
            "placeholder": "​",
            "style": "IPY_MODEL_c3ebcbb4554047cba884787358282cbf",
            "value": " 4/4 [00:00&lt;00:00,  7.32ba/s]"
          }
        },
        "39ae06d93b714fb881e46c0087b71eca": {
          "model_module": "@jupyter-widgets/base",
          "model_name": "LayoutModel",
          "model_module_version": "1.2.0",
          "state": {
            "_model_module": "@jupyter-widgets/base",
            "_model_module_version": "1.2.0",
            "_model_name": "LayoutModel",
            "_view_count": null,
            "_view_module": "@jupyter-widgets/base",
            "_view_module_version": "1.2.0",
            "_view_name": "LayoutView",
            "align_content": null,
            "align_items": null,
            "align_self": null,
            "border": null,
            "bottom": null,
            "display": null,
            "flex": null,
            "flex_flow": null,
            "grid_area": null,
            "grid_auto_columns": null,
            "grid_auto_flow": null,
            "grid_auto_rows": null,
            "grid_column": null,
            "grid_gap": null,
            "grid_row": null,
            "grid_template_areas": null,
            "grid_template_columns": null,
            "grid_template_rows": null,
            "height": null,
            "justify_content": null,
            "justify_items": null,
            "left": null,
            "margin": null,
            "max_height": null,
            "max_width": null,
            "min_height": null,
            "min_width": null,
            "object_fit": null,
            "object_position": null,
            "order": null,
            "overflow": null,
            "overflow_x": null,
            "overflow_y": null,
            "padding": null,
            "right": null,
            "top": null,
            "visibility": null,
            "width": null
          }
        },
        "17d3fb08637244548c12fdd59c1d45ee": {
          "model_module": "@jupyter-widgets/base",
          "model_name": "LayoutModel",
          "model_module_version": "1.2.0",
          "state": {
            "_model_module": "@jupyter-widgets/base",
            "_model_module_version": "1.2.0",
            "_model_name": "LayoutModel",
            "_view_count": null,
            "_view_module": "@jupyter-widgets/base",
            "_view_module_version": "1.2.0",
            "_view_name": "LayoutView",
            "align_content": null,
            "align_items": null,
            "align_self": null,
            "border": null,
            "bottom": null,
            "display": null,
            "flex": null,
            "flex_flow": null,
            "grid_area": null,
            "grid_auto_columns": null,
            "grid_auto_flow": null,
            "grid_auto_rows": null,
            "grid_column": null,
            "grid_gap": null,
            "grid_row": null,
            "grid_template_areas": null,
            "grid_template_columns": null,
            "grid_template_rows": null,
            "height": null,
            "justify_content": null,
            "justify_items": null,
            "left": null,
            "margin": null,
            "max_height": null,
            "max_width": null,
            "min_height": null,
            "min_width": null,
            "object_fit": null,
            "object_position": null,
            "order": null,
            "overflow": null,
            "overflow_x": null,
            "overflow_y": null,
            "padding": null,
            "right": null,
            "top": null,
            "visibility": null,
            "width": null
          }
        },
        "50c8d9ea6f3d4c07a8831dd539e26353": {
          "model_module": "@jupyter-widgets/controls",
          "model_name": "DescriptionStyleModel",
          "model_module_version": "1.5.0",
          "state": {
            "_model_module": "@jupyter-widgets/controls",
            "_model_module_version": "1.5.0",
            "_model_name": "DescriptionStyleModel",
            "_view_count": null,
            "_view_module": "@jupyter-widgets/base",
            "_view_module_version": "1.2.0",
            "_view_name": "StyleView",
            "description_width": ""
          }
        },
        "146d303ab01242f49efc58b8c92b5211": {
          "model_module": "@jupyter-widgets/base",
          "model_name": "LayoutModel",
          "model_module_version": "1.2.0",
          "state": {
            "_model_module": "@jupyter-widgets/base",
            "_model_module_version": "1.2.0",
            "_model_name": "LayoutModel",
            "_view_count": null,
            "_view_module": "@jupyter-widgets/base",
            "_view_module_version": "1.2.0",
            "_view_name": "LayoutView",
            "align_content": null,
            "align_items": null,
            "align_self": null,
            "border": null,
            "bottom": null,
            "display": null,
            "flex": null,
            "flex_flow": null,
            "grid_area": null,
            "grid_auto_columns": null,
            "grid_auto_flow": null,
            "grid_auto_rows": null,
            "grid_column": null,
            "grid_gap": null,
            "grid_row": null,
            "grid_template_areas": null,
            "grid_template_columns": null,
            "grid_template_rows": null,
            "height": null,
            "justify_content": null,
            "justify_items": null,
            "left": null,
            "margin": null,
            "max_height": null,
            "max_width": null,
            "min_height": null,
            "min_width": null,
            "object_fit": null,
            "object_position": null,
            "order": null,
            "overflow": null,
            "overflow_x": null,
            "overflow_y": null,
            "padding": null,
            "right": null,
            "top": null,
            "visibility": null,
            "width": null
          }
        },
        "db1e39d364c94100952ceae9d38eb0c2": {
          "model_module": "@jupyter-widgets/controls",
          "model_name": "ProgressStyleModel",
          "model_module_version": "1.5.0",
          "state": {
            "_model_module": "@jupyter-widgets/controls",
            "_model_module_version": "1.5.0",
            "_model_name": "ProgressStyleModel",
            "_view_count": null,
            "_view_module": "@jupyter-widgets/base",
            "_view_module_version": "1.2.0",
            "_view_name": "StyleView",
            "bar_color": null,
            "description_width": ""
          }
        },
        "07a3a7b996984e3081f2bf2b85fabdcb": {
          "model_module": "@jupyter-widgets/base",
          "model_name": "LayoutModel",
          "model_module_version": "1.2.0",
          "state": {
            "_model_module": "@jupyter-widgets/base",
            "_model_module_version": "1.2.0",
            "_model_name": "LayoutModel",
            "_view_count": null,
            "_view_module": "@jupyter-widgets/base",
            "_view_module_version": "1.2.0",
            "_view_name": "LayoutView",
            "align_content": null,
            "align_items": null,
            "align_self": null,
            "border": null,
            "bottom": null,
            "display": null,
            "flex": null,
            "flex_flow": null,
            "grid_area": null,
            "grid_auto_columns": null,
            "grid_auto_flow": null,
            "grid_auto_rows": null,
            "grid_column": null,
            "grid_gap": null,
            "grid_row": null,
            "grid_template_areas": null,
            "grid_template_columns": null,
            "grid_template_rows": null,
            "height": null,
            "justify_content": null,
            "justify_items": null,
            "left": null,
            "margin": null,
            "max_height": null,
            "max_width": null,
            "min_height": null,
            "min_width": null,
            "object_fit": null,
            "object_position": null,
            "order": null,
            "overflow": null,
            "overflow_x": null,
            "overflow_y": null,
            "padding": null,
            "right": null,
            "top": null,
            "visibility": null,
            "width": null
          }
        },
        "c3ebcbb4554047cba884787358282cbf": {
          "model_module": "@jupyter-widgets/controls",
          "model_name": "DescriptionStyleModel",
          "model_module_version": "1.5.0",
          "state": {
            "_model_module": "@jupyter-widgets/controls",
            "_model_module_version": "1.5.0",
            "_model_name": "DescriptionStyleModel",
            "_view_count": null,
            "_view_module": "@jupyter-widgets/base",
            "_view_module_version": "1.2.0",
            "_view_name": "StyleView",
            "description_width": ""
          }
        },
        "784734a8b60c415fa5ea6c0baa489640": {
          "model_module": "@jupyter-widgets/controls",
          "model_name": "HBoxModel",
          "model_module_version": "1.5.0",
          "state": {
            "_dom_classes": [],
            "_model_module": "@jupyter-widgets/controls",
            "_model_module_version": "1.5.0",
            "_model_name": "HBoxModel",
            "_view_count": null,
            "_view_module": "@jupyter-widgets/controls",
            "_view_module_version": "1.5.0",
            "_view_name": "HBoxView",
            "box_style": "",
            "children": [
              "IPY_MODEL_70367deb73674512bcd9a0fd62965f12",
              "IPY_MODEL_c7a009d0e2f843de9f9d5f8a19491a96",
              "IPY_MODEL_bd7ae477c97c424d8f648cc0b37cc2b8"
            ],
            "layout": "IPY_MODEL_f8bcd97ba6cf4d9c8f02dfa98bc44ce9"
          }
        },
        "70367deb73674512bcd9a0fd62965f12": {
          "model_module": "@jupyter-widgets/controls",
          "model_name": "HTMLModel",
          "model_module_version": "1.5.0",
          "state": {
            "_dom_classes": [],
            "_model_module": "@jupyter-widgets/controls",
            "_model_module_version": "1.5.0",
            "_model_name": "HTMLModel",
            "_view_count": null,
            "_view_module": "@jupyter-widgets/controls",
            "_view_module_version": "1.5.0",
            "_view_name": "HTMLView",
            "description": "",
            "description_tooltip": null,
            "layout": "IPY_MODEL_1fd59bfab786491883e6c598c3e38c93",
            "placeholder": "​",
            "style": "IPY_MODEL_4a629ad677a04129bf3d69faf598d3ac",
            "value": "Creating CSV from Arrow format: 100%"
          }
        },
        "c7a009d0e2f843de9f9d5f8a19491a96": {
          "model_module": "@jupyter-widgets/controls",
          "model_name": "FloatProgressModel",
          "model_module_version": "1.5.0",
          "state": {
            "_dom_classes": [],
            "_model_module": "@jupyter-widgets/controls",
            "_model_module_version": "1.5.0",
            "_model_name": "FloatProgressModel",
            "_view_count": null,
            "_view_module": "@jupyter-widgets/controls",
            "_view_module_version": "1.5.0",
            "_view_name": "ProgressView",
            "bar_style": "success",
            "description": "",
            "description_tooltip": null,
            "layout": "IPY_MODEL_28463afb8cea442fb2b61e0ce69b4804",
            "max": 4,
            "min": 0,
            "orientation": "horizontal",
            "style": "IPY_MODEL_3c97499ba88141d2b0deced359258603",
            "value": 4
          }
        },
        "bd7ae477c97c424d8f648cc0b37cc2b8": {
          "model_module": "@jupyter-widgets/controls",
          "model_name": "HTMLModel",
          "model_module_version": "1.5.0",
          "state": {
            "_dom_classes": [],
            "_model_module": "@jupyter-widgets/controls",
            "_model_module_version": "1.5.0",
            "_model_name": "HTMLModel",
            "_view_count": null,
            "_view_module": "@jupyter-widgets/controls",
            "_view_module_version": "1.5.0",
            "_view_name": "HTMLView",
            "description": "",
            "description_tooltip": null,
            "layout": "IPY_MODEL_f3ac97e99ab94da39ad9b65271460b6e",
            "placeholder": "​",
            "style": "IPY_MODEL_e029a513983c48dd912711fa1f1283f5",
            "value": " 4/4 [00:00&lt;00:00, 115.24ba/s]"
          }
        },
        "f8bcd97ba6cf4d9c8f02dfa98bc44ce9": {
          "model_module": "@jupyter-widgets/base",
          "model_name": "LayoutModel",
          "model_module_version": "1.2.0",
          "state": {
            "_model_module": "@jupyter-widgets/base",
            "_model_module_version": "1.2.0",
            "_model_name": "LayoutModel",
            "_view_count": null,
            "_view_module": "@jupyter-widgets/base",
            "_view_module_version": "1.2.0",
            "_view_name": "LayoutView",
            "align_content": null,
            "align_items": null,
            "align_self": null,
            "border": null,
            "bottom": null,
            "display": null,
            "flex": null,
            "flex_flow": null,
            "grid_area": null,
            "grid_auto_columns": null,
            "grid_auto_flow": null,
            "grid_auto_rows": null,
            "grid_column": null,
            "grid_gap": null,
            "grid_row": null,
            "grid_template_areas": null,
            "grid_template_columns": null,
            "grid_template_rows": null,
            "height": null,
            "justify_content": null,
            "justify_items": null,
            "left": null,
            "margin": null,
            "max_height": null,
            "max_width": null,
            "min_height": null,
            "min_width": null,
            "object_fit": null,
            "object_position": null,
            "order": null,
            "overflow": null,
            "overflow_x": null,
            "overflow_y": null,
            "padding": null,
            "right": null,
            "top": null,
            "visibility": null,
            "width": null
          }
        },
        "1fd59bfab786491883e6c598c3e38c93": {
          "model_module": "@jupyter-widgets/base",
          "model_name": "LayoutModel",
          "model_module_version": "1.2.0",
          "state": {
            "_model_module": "@jupyter-widgets/base",
            "_model_module_version": "1.2.0",
            "_model_name": "LayoutModel",
            "_view_count": null,
            "_view_module": "@jupyter-widgets/base",
            "_view_module_version": "1.2.0",
            "_view_name": "LayoutView",
            "align_content": null,
            "align_items": null,
            "align_self": null,
            "border": null,
            "bottom": null,
            "display": null,
            "flex": null,
            "flex_flow": null,
            "grid_area": null,
            "grid_auto_columns": null,
            "grid_auto_flow": null,
            "grid_auto_rows": null,
            "grid_column": null,
            "grid_gap": null,
            "grid_row": null,
            "grid_template_areas": null,
            "grid_template_columns": null,
            "grid_template_rows": null,
            "height": null,
            "justify_content": null,
            "justify_items": null,
            "left": null,
            "margin": null,
            "max_height": null,
            "max_width": null,
            "min_height": null,
            "min_width": null,
            "object_fit": null,
            "object_position": null,
            "order": null,
            "overflow": null,
            "overflow_x": null,
            "overflow_y": null,
            "padding": null,
            "right": null,
            "top": null,
            "visibility": null,
            "width": null
          }
        },
        "4a629ad677a04129bf3d69faf598d3ac": {
          "model_module": "@jupyter-widgets/controls",
          "model_name": "DescriptionStyleModel",
          "model_module_version": "1.5.0",
          "state": {
            "_model_module": "@jupyter-widgets/controls",
            "_model_module_version": "1.5.0",
            "_model_name": "DescriptionStyleModel",
            "_view_count": null,
            "_view_module": "@jupyter-widgets/base",
            "_view_module_version": "1.2.0",
            "_view_name": "StyleView",
            "description_width": ""
          }
        },
        "28463afb8cea442fb2b61e0ce69b4804": {
          "model_module": "@jupyter-widgets/base",
          "model_name": "LayoutModel",
          "model_module_version": "1.2.0",
          "state": {
            "_model_module": "@jupyter-widgets/base",
            "_model_module_version": "1.2.0",
            "_model_name": "LayoutModel",
            "_view_count": null,
            "_view_module": "@jupyter-widgets/base",
            "_view_module_version": "1.2.0",
            "_view_name": "LayoutView",
            "align_content": null,
            "align_items": null,
            "align_self": null,
            "border": null,
            "bottom": null,
            "display": null,
            "flex": null,
            "flex_flow": null,
            "grid_area": null,
            "grid_auto_columns": null,
            "grid_auto_flow": null,
            "grid_auto_rows": null,
            "grid_column": null,
            "grid_gap": null,
            "grid_row": null,
            "grid_template_areas": null,
            "grid_template_columns": null,
            "grid_template_rows": null,
            "height": null,
            "justify_content": null,
            "justify_items": null,
            "left": null,
            "margin": null,
            "max_height": null,
            "max_width": null,
            "min_height": null,
            "min_width": null,
            "object_fit": null,
            "object_position": null,
            "order": null,
            "overflow": null,
            "overflow_x": null,
            "overflow_y": null,
            "padding": null,
            "right": null,
            "top": null,
            "visibility": null,
            "width": null
          }
        },
        "3c97499ba88141d2b0deced359258603": {
          "model_module": "@jupyter-widgets/controls",
          "model_name": "ProgressStyleModel",
          "model_module_version": "1.5.0",
          "state": {
            "_model_module": "@jupyter-widgets/controls",
            "_model_module_version": "1.5.0",
            "_model_name": "ProgressStyleModel",
            "_view_count": null,
            "_view_module": "@jupyter-widgets/base",
            "_view_module_version": "1.2.0",
            "_view_name": "StyleView",
            "bar_color": null,
            "description_width": ""
          }
        },
        "f3ac97e99ab94da39ad9b65271460b6e": {
          "model_module": "@jupyter-widgets/base",
          "model_name": "LayoutModel",
          "model_module_version": "1.2.0",
          "state": {
            "_model_module": "@jupyter-widgets/base",
            "_model_module_version": "1.2.0",
            "_model_name": "LayoutModel",
            "_view_count": null,
            "_view_module": "@jupyter-widgets/base",
            "_view_module_version": "1.2.0",
            "_view_name": "LayoutView",
            "align_content": null,
            "align_items": null,
            "align_self": null,
            "border": null,
            "bottom": null,
            "display": null,
            "flex": null,
            "flex_flow": null,
            "grid_area": null,
            "grid_auto_columns": null,
            "grid_auto_flow": null,
            "grid_auto_rows": null,
            "grid_column": null,
            "grid_gap": null,
            "grid_row": null,
            "grid_template_areas": null,
            "grid_template_columns": null,
            "grid_template_rows": null,
            "height": null,
            "justify_content": null,
            "justify_items": null,
            "left": null,
            "margin": null,
            "max_height": null,
            "max_width": null,
            "min_height": null,
            "min_width": null,
            "object_fit": null,
            "object_position": null,
            "order": null,
            "overflow": null,
            "overflow_x": null,
            "overflow_y": null,
            "padding": null,
            "right": null,
            "top": null,
            "visibility": null,
            "width": null
          }
        },
        "e029a513983c48dd912711fa1f1283f5": {
          "model_module": "@jupyter-widgets/controls",
          "model_name": "DescriptionStyleModel",
          "model_module_version": "1.5.0",
          "state": {
            "_model_module": "@jupyter-widgets/controls",
            "_model_module_version": "1.5.0",
            "_model_name": "DescriptionStyleModel",
            "_view_count": null,
            "_view_module": "@jupyter-widgets/base",
            "_view_module_version": "1.2.0",
            "_view_name": "StyleView",
            "description_width": ""
          }
        }
      }
    }
  },
  "cells": [
    {
      "cell_type": "markdown",
      "metadata": {
        "id": "view-in-github",
        "colab_type": "text"
      },
      "source": [
        "<a href=\"https://colab.research.google.com/github/DenicaKj/VNP/blob/main/Lab_5.ipynb\" target=\"_parent\"><img src=\"https://colab.research.google.com/assets/colab-badge.svg\" alt=\"Open In Colab\"/></a>"
      ]
    },
    {
      "cell_type": "markdown",
      "metadata": {
        "id": "r4CnlFmQnf7j"
      },
      "source": [
        "\n",
        "<font size = 4 color='Orange'>\n",
        "Learning Goals</font>\n",
        "\n",
        "<font color = 'Orange' size = 3 >In this Exercise your goal is to make a good solution for the active competition on kaggle: https://www.kaggle.com/c/nlp-getting-started/data\n",
        "\n",
        "<font color = 'Orange' size = 3 > In order to download the Datasets you will need to join and accept the terms and conditions of the competition. </font>\n",
        "\n",
        "You need to report the parameters for the best three models into a table that will contain the model architecture and F1 score.\n",
        "</font>\n",
        "\n",
        "<font color = 'Blue' size = 4 > Structure of the Dataset </font>\n",
        "\n",
        "<font color = 'Orange' size = 3>\n",
        "The Dataset it's divided on two parts for training and testing. For the testing part you need to map the id's with the sample_submission.csv, where the target column is located.</li>\n",
        "</font>\n",
        "\n",
        "<font color = 'Blue' size = 4 >FIRST PART</font>\n",
        "\n",
        "<font color = 'Orange' size = 3 > Choose a model that you will use from the pretrained BERT, RoBERTa, XLNet, XLM ... models for Text Classification [Hugging Face](https://huggingface.co/transformers/quicktour.html). \n",
        "\n",
        "Report the following parameters for models based on Transformers</font>\n",
        "<ul>\n",
        "<font color='orange'>\n",
        "<li> Pretrained model</li>\n",
        "\n",
        "<li>Loss function</li>\n",
        "<li>Optimizer function for compiling</li>\n",
        "<li>F1 score for the prediction of the test part (this is the metric for rating the models)\n",
        "</li>\n",
        "</ul>\n",
        "<font color = 'Blue' size = 4 >SECOND PART</font>\n",
        "<ul>\n",
        "<font color='Orange'>\n",
        "Cluster the tweets based on their embeddings using one of the clustering algorithms:\n",
        "\n",
        "<li>K-Means Clustering</li>\n",
        "<li>Agglomerative Clustering</li> \n",
        "<li>Affinity propagation Clustering</li> \n",
        "<li>Spectral Clustering</li> \n",
        "<li>DBSCAN Clustering</li>\n",
        "\n",
        "</ul>\n",
        "\n",
        "</font>"
      ]
    },
    {
      "cell_type": "code",
      "source": [
        "from google.colab import drive\n",
        "drive.mount('/content/drive')"
      ],
      "metadata": {
        "colab": {
          "base_uri": "https://localhost:8080/"
        },
        "id": "qiFsoF8rliKw",
        "outputId": "bc7d041f-a350-4f57-a665-5e386235a514"
      },
      "execution_count": 6,
      "outputs": [
        {
          "output_type": "stream",
          "name": "stdout",
          "text": [
            "Mounted at /content/drive\n"
          ]
        }
      ]
    },
    {
      "cell_type": "markdown",
      "source": [
        "#First Part"
      ],
      "metadata": {
        "id": "rVyLmeQGqVx3"
      }
    },
    {
      "cell_type": "code",
      "metadata": {
        "id": "M5fgr8yJzTUJ",
        "colab": {
          "base_uri": "https://localhost:8080/"
        },
        "outputId": "bc0b7d11-a58c-42e5-d6b7-323db3426aae"
      },
      "source": [
        "!pip install transformers"
      ],
      "execution_count": 7,
      "outputs": [
        {
          "output_type": "stream",
          "name": "stdout",
          "text": [
            "Looking in indexes: https://pypi.org/simple, https://us-python.pkg.dev/colab-wheels/public/simple/\n",
            "Collecting transformers\n",
            "  Downloading transformers-4.26.0-py3-none-any.whl (6.3 MB)\n",
            "\u001b[2K     \u001b[90m━━━━━━━━━━━━━━━━━━━━━━━━━━━━━━━━━━━━━━━━\u001b[0m \u001b[32m6.3/6.3 MB\u001b[0m \u001b[31m97.7 MB/s\u001b[0m eta \u001b[36m0:00:00\u001b[0m\n",
            "\u001b[?25hRequirement already satisfied: pyyaml>=5.1 in /usr/local/lib/python3.8/dist-packages (from transformers) (6.0)\n",
            "Collecting tokenizers!=0.11.3,<0.14,>=0.11.1\n",
            "  Downloading tokenizers-0.13.2-cp38-cp38-manylinux_2_17_x86_64.manylinux2014_x86_64.whl (7.6 MB)\n",
            "\u001b[2K     \u001b[90m━━━━━━━━━━━━━━━━━━━━━━━━━━━━━━━━━━━━━━━━\u001b[0m \u001b[32m7.6/7.6 MB\u001b[0m \u001b[31m115.5 MB/s\u001b[0m eta \u001b[36m0:00:00\u001b[0m\n",
            "\u001b[?25hRequirement already satisfied: filelock in /usr/local/lib/python3.8/dist-packages (from transformers) (3.9.0)\n",
            "Requirement already satisfied: packaging>=20.0 in /usr/local/lib/python3.8/dist-packages (from transformers) (21.3)\n",
            "Requirement already satisfied: regex!=2019.12.17 in /usr/local/lib/python3.8/dist-packages (from transformers) (2022.6.2)\n",
            "Requirement already satisfied: numpy>=1.17 in /usr/local/lib/python3.8/dist-packages (from transformers) (1.21.6)\n",
            "Requirement already satisfied: requests in /usr/local/lib/python3.8/dist-packages (from transformers) (2.25.1)\n",
            "Requirement already satisfied: tqdm>=4.27 in /usr/local/lib/python3.8/dist-packages (from transformers) (4.64.1)\n",
            "Collecting huggingface-hub<1.0,>=0.11.0\n",
            "  Downloading huggingface_hub-0.12.0-py3-none-any.whl (190 kB)\n",
            "\u001b[2K     \u001b[90m━━━━━━━━━━━━━━━━━━━━━━━━━━━━━━━━━━━━━━\u001b[0m \u001b[32m190.3/190.3 KB\u001b[0m \u001b[31m24.0 MB/s\u001b[0m eta \u001b[36m0:00:00\u001b[0m\n",
            "\u001b[?25hRequirement already satisfied: typing-extensions>=3.7.4.3 in /usr/local/lib/python3.8/dist-packages (from huggingface-hub<1.0,>=0.11.0->transformers) (4.4.0)\n",
            "Requirement already satisfied: pyparsing!=3.0.5,>=2.0.2 in /usr/local/lib/python3.8/dist-packages (from packaging>=20.0->transformers) (3.0.9)\n",
            "Requirement already satisfied: chardet<5,>=3.0.2 in /usr/local/lib/python3.8/dist-packages (from requests->transformers) (4.0.0)\n",
            "Requirement already satisfied: idna<3,>=2.5 in /usr/local/lib/python3.8/dist-packages (from requests->transformers) (2.10)\n",
            "Requirement already satisfied: certifi>=2017.4.17 in /usr/local/lib/python3.8/dist-packages (from requests->transformers) (2022.12.7)\n",
            "Requirement already satisfied: urllib3<1.27,>=1.21.1 in /usr/local/lib/python3.8/dist-packages (from requests->transformers) (1.24.3)\n",
            "Installing collected packages: tokenizers, huggingface-hub, transformers\n",
            "Successfully installed huggingface-hub-0.12.0 tokenizers-0.13.2 transformers-4.26.0\n"
          ]
        }
      ]
    },
    {
      "cell_type": "code",
      "source": [
        "!pip install datasets"
      ],
      "metadata": {
        "colab": {
          "base_uri": "https://localhost:8080/"
        },
        "id": "0H4gGCQchQ0L",
        "outputId": "f40220d6-81d7-4d65-bbaf-aa78e091684d"
      },
      "execution_count": 8,
      "outputs": [
        {
          "output_type": "stream",
          "name": "stdout",
          "text": [
            "Looking in indexes: https://pypi.org/simple, https://us-python.pkg.dev/colab-wheels/public/simple/\n",
            "Collecting datasets\n",
            "  Downloading datasets-2.9.0-py3-none-any.whl (462 kB)\n",
            "\u001b[2K     \u001b[90m━━━━━━━━━━━━━━━━━━━━━━━━━━━━━━━━━━━━━━\u001b[0m \u001b[32m462.8/462.8 KB\u001b[0m \u001b[31m35.8 MB/s\u001b[0m eta \u001b[36m0:00:00\u001b[0m\n",
            "\u001b[?25hRequirement already satisfied: tqdm>=4.62.1 in /usr/local/lib/python3.8/dist-packages (from datasets) (4.64.1)\n",
            "Requirement already satisfied: pyarrow>=6.0.0 in /usr/local/lib/python3.8/dist-packages (from datasets) (9.0.0)\n",
            "Requirement already satisfied: pandas in /usr/local/lib/python3.8/dist-packages (from datasets) (1.3.5)\n",
            "Requirement already satisfied: aiohttp in /usr/local/lib/python3.8/dist-packages (from datasets) (3.8.3)\n",
            "Collecting xxhash\n",
            "  Downloading xxhash-3.2.0-cp38-cp38-manylinux_2_17_x86_64.manylinux2014_x86_64.whl (213 kB)\n",
            "\u001b[2K     \u001b[90m━━━━━━━━━━━━━━━━━━━━━━━━━━━━━━━━━━━━━━\u001b[0m \u001b[32m213.0/213.0 KB\u001b[0m \u001b[31m23.2 MB/s\u001b[0m eta \u001b[36m0:00:00\u001b[0m\n",
            "\u001b[?25hRequirement already satisfied: packaging in /usr/local/lib/python3.8/dist-packages (from datasets) (21.3)\n",
            "Collecting responses<0.19\n",
            "  Downloading responses-0.18.0-py3-none-any.whl (38 kB)\n",
            "Requirement already satisfied: huggingface-hub<1.0.0,>=0.2.0 in /usr/local/lib/python3.8/dist-packages (from datasets) (0.12.0)\n",
            "Requirement already satisfied: fsspec[http]>=2021.11.1 in /usr/local/lib/python3.8/dist-packages (from datasets) (2022.11.0)\n",
            "Requirement already satisfied: numpy>=1.17 in /usr/local/lib/python3.8/dist-packages (from datasets) (1.21.6)\n",
            "Collecting multiprocess\n",
            "  Downloading multiprocess-0.70.14-py38-none-any.whl (132 kB)\n",
            "\u001b[2K     \u001b[90m━━━━━━━━━━━━━━━━━━━━━━━━━━━━━━━━━━━━━━\u001b[0m \u001b[32m132.0/132.0 KB\u001b[0m \u001b[31m18.6 MB/s\u001b[0m eta \u001b[36m0:00:00\u001b[0m\n",
            "\u001b[?25hRequirement already satisfied: requests>=2.19.0 in /usr/local/lib/python3.8/dist-packages (from datasets) (2.25.1)\n",
            "Requirement already satisfied: pyyaml>=5.1 in /usr/local/lib/python3.8/dist-packages (from datasets) (6.0)\n",
            "Requirement already satisfied: dill<0.3.7 in /usr/local/lib/python3.8/dist-packages (from datasets) (0.3.6)\n",
            "Requirement already satisfied: frozenlist>=1.1.1 in /usr/local/lib/python3.8/dist-packages (from aiohttp->datasets) (1.3.3)\n",
            "Requirement already satisfied: attrs>=17.3.0 in /usr/local/lib/python3.8/dist-packages (from aiohttp->datasets) (22.2.0)\n",
            "Requirement already satisfied: yarl<2.0,>=1.0 in /usr/local/lib/python3.8/dist-packages (from aiohttp->datasets) (1.8.2)\n",
            "Requirement already satisfied: charset-normalizer<3.0,>=2.0 in /usr/local/lib/python3.8/dist-packages (from aiohttp->datasets) (2.1.1)\n",
            "Requirement already satisfied: multidict<7.0,>=4.5 in /usr/local/lib/python3.8/dist-packages (from aiohttp->datasets) (6.0.4)\n",
            "Requirement already satisfied: async-timeout<5.0,>=4.0.0a3 in /usr/local/lib/python3.8/dist-packages (from aiohttp->datasets) (4.0.2)\n",
            "Requirement already satisfied: aiosignal>=1.1.2 in /usr/local/lib/python3.8/dist-packages (from aiohttp->datasets) (1.3.1)\n",
            "Requirement already satisfied: typing-extensions>=3.7.4.3 in /usr/local/lib/python3.8/dist-packages (from huggingface-hub<1.0.0,>=0.2.0->datasets) (4.4.0)\n",
            "Requirement already satisfied: filelock in /usr/local/lib/python3.8/dist-packages (from huggingface-hub<1.0.0,>=0.2.0->datasets) (3.9.0)\n",
            "Requirement already satisfied: pyparsing!=3.0.5,>=2.0.2 in /usr/local/lib/python3.8/dist-packages (from packaging->datasets) (3.0.9)\n",
            "Requirement already satisfied: certifi>=2017.4.17 in /usr/local/lib/python3.8/dist-packages (from requests>=2.19.0->datasets) (2022.12.7)\n",
            "Requirement already satisfied: urllib3<1.27,>=1.21.1 in /usr/local/lib/python3.8/dist-packages (from requests>=2.19.0->datasets) (1.24.3)\n",
            "Requirement already satisfied: chardet<5,>=3.0.2 in /usr/local/lib/python3.8/dist-packages (from requests>=2.19.0->datasets) (4.0.0)\n",
            "Requirement already satisfied: idna<3,>=2.5 in /usr/local/lib/python3.8/dist-packages (from requests>=2.19.0->datasets) (2.10)\n",
            "Collecting urllib3<1.27,>=1.21.1\n",
            "  Downloading urllib3-1.26.14-py2.py3-none-any.whl (140 kB)\n",
            "\u001b[2K     \u001b[90m━━━━━━━━━━━━━━━━━━━━━━━━━━━━━━━━━━━━━━\u001b[0m \u001b[32m140.6/140.6 KB\u001b[0m \u001b[31m19.1 MB/s\u001b[0m eta \u001b[36m0:00:00\u001b[0m\n",
            "\u001b[?25hRequirement already satisfied: python-dateutil>=2.7.3 in /usr/local/lib/python3.8/dist-packages (from pandas->datasets) (2.8.2)\n",
            "Requirement already satisfied: pytz>=2017.3 in /usr/local/lib/python3.8/dist-packages (from pandas->datasets) (2022.7)\n",
            "Requirement already satisfied: six>=1.5 in /usr/local/lib/python3.8/dist-packages (from python-dateutil>=2.7.3->pandas->datasets) (1.15.0)\n",
            "Installing collected packages: xxhash, urllib3, multiprocess, responses, datasets\n",
            "  Attempting uninstall: urllib3\n",
            "    Found existing installation: urllib3 1.24.3\n",
            "    Uninstalling urllib3-1.24.3:\n",
            "      Successfully uninstalled urllib3-1.24.3\n",
            "Successfully installed datasets-2.9.0 multiprocess-0.70.14 responses-0.18.0 urllib3-1.26.14 xxhash-3.2.0\n"
          ]
        }
      ]
    },
    {
      "cell_type": "code",
      "source": [
        "import pandas as pd"
      ],
      "metadata": {
        "id": "6k2sCO6Hhcdu"
      },
      "execution_count": 9,
      "outputs": []
    },
    {
      "cell_type": "markdown",
      "source": [
        "##Preprocessing"
      ],
      "metadata": {
        "id": "EOugSiPkooVk"
      }
    },
    {
      "cell_type": "code",
      "source": [
        "train=pd.read_csv('/content/drive/MyDrive/kolok/train.csv')"
      ],
      "metadata": {
        "id": "LMaluL7yhyqb"
      },
      "execution_count": 10,
      "outputs": []
    },
    {
      "cell_type": "code",
      "source": [
        "train.isnull().sum()"
      ],
      "metadata": {
        "colab": {
          "base_uri": "https://localhost:8080/"
        },
        "id": "EBN3q5_Wblpy",
        "outputId": "14b5b233-fa82-4508-81aa-c9f6a6551445"
      },
      "execution_count": 11,
      "outputs": [
        {
          "output_type": "execute_result",
          "data": {
            "text/plain": [
              "id             0\n",
              "keyword       61\n",
              "location    2533\n",
              "text           0\n",
              "target         0\n",
              "dtype: int64"
            ]
          },
          "metadata": {},
          "execution_count": 11
        }
      ]
    },
    {
      "cell_type": "code",
      "source": [
        "import missingno as msngo\n",
        "msngo.bar(train)"
      ],
      "metadata": {
        "colab": {
          "base_uri": "https://localhost:8080/",
          "height": 517
        },
        "id": "5vFrkZAPcRmg",
        "outputId": "8e9e7f97-83a4-4d39-e2fa-4738d37b9f95"
      },
      "execution_count": 12,
      "outputs": [
        {
          "output_type": "execute_result",
          "data": {
            "text/plain": [
              "<matplotlib.axes._subplots.AxesSubplot at 0x7f199fb1a3d0>"
            ]
          },
          "metadata": {},
          "execution_count": 12
        },
        {
          "output_type": "display_data",
          "data": {
            "text/plain": [
              "<Figure size 1800x720 with 3 Axes>"
            ],
            "image/png": "[encoded data removed]"
          },
          "metadata": {
            "needs_background": "light"
          }
        }
      ]
    },
    {
      "cell_type": "code",
      "source": [
        "msngo.heatmap(train)"
      ],
      "metadata": {
        "colab": {
          "base_uri": "https://localhost:8080/",
          "height": 748
        },
        "id": "2CAqEc6dclUn",
        "outputId": "b0966233-61b2-410d-b5b4-4e286a83a261"
      },
      "execution_count": 13,
      "outputs": [
        {
          "output_type": "execute_result",
          "data": {
            "text/plain": [
              "<matplotlib.axes._subplots.AxesSubplot at 0x7f199f9b4b50>"
            ]
          },
          "metadata": {},
          "execution_count": 13
        },
        {
          "output_type": "display_data",
          "data": {
            "text/plain": [
              "<Figure size 1440x864 with 2 Axes>"
            ],
            "image/png": "[encoded data removed]"
          },
          "metadata": {
            "needs_background": "light"
          }
        }
      ]
    },
    {
      "cell_type": "code",
      "source": [
        "train=train.drop(['keyword','location','id'],axis=1)\n",
        "train.rename(columns = {'target':'label'}, inplace = True)\n",
        "train"
      ],
      "metadata": {
        "colab": {
          "base_uri": "https://localhost:8080/",
          "height": 424
        },
        "id": "ZEEDhy0Mbi4v",
        "outputId": "e0e5a22d-3f93-4f36-aba7-72fab02c5a0a"
      },
      "execution_count": 14,
      "outputs": [
        {
          "output_type": "execute_result",
          "data": {
            "text/plain": [
              "                                                   text  label\n",
              "0     Our Deeds are the Reason of this #earthquake M...      1\n",
              "1                Forest fire near La Ronge Sask. Canada      1\n",
              "2     All residents asked to 'shelter in place' are ...      1\n",
              "3     13,000 people receive #wildfires evacuation or...      1\n",
              "4     Just got sent this photo from Ruby #Alaska as ...      1\n",
              "...                                                 ...    ...\n",
              "7608  Two giant cranes holding a bridge collapse int...      1\n",
              "7609  @aria_ahrary @TheTawniest The out of control w...      1\n",
              "7610  M1.94 [01:04 UTC]?5km S of Volcano Hawaii. htt...      1\n",
              "7611  Police investigating after an e-bike collided ...      1\n",
              "7612  The Latest: More Homes Razed by Northern Calif...      1\n",
              "\n",
              "[7613 rows x 2 columns]"
            ],
            "text/html": [
              "\n",
              "  <div id=\"df-191943d0-e18a-4ad3-9d50-15ef7569e0b7\">\n",
              "    <div class=\"colab-df-container\">\n",
              "      <div>\n",
              "<style scoped>\n",
              "    .dataframe tbody tr th:only-of-type {\n",
              "        vertical-align: middle;\n",
              "    }\n",
              "\n",
              "    .dataframe tbody tr th {\n",
              "        vertical-align: top;\n",
              "    }\n",
              "\n",
              "    .dataframe thead th {\n",
              "        text-align: right;\n",
              "    }\n",
              "</style>\n",
              "<table border=\"1\" class=\"dataframe\">\n",
              "  <thead>\n",
              "    <tr style=\"text-align: right;\">\n",
              "      <th></th>\n",
              "      <th>text</th>\n",
              "      <th>label</th>\n",
              "    </tr>\n",
              "  </thead>\n",
              "  <tbody>\n",
              "    <tr>\n",
              "      <th>0</th>\n",
              "      <td>Our Deeds are the Reason of this #earthquake M...</td>\n",
              "      <td>1</td>\n",
              "    </tr>\n",
              "    <tr>\n",
              "      <th>1</th>\n",
              "      <td>Forest fire near La Ronge Sask. Canada</td>\n",
              "      <td>1</td>\n",
              "    </tr>\n",
              "    <tr>\n",
              "      <th>2</th>\n",
              "      <td>All residents asked to 'shelter in place' are ...</td>\n",
              "      <td>1</td>\n",
              "    </tr>\n",
              "    <tr>\n",
              "      <th>3</th>\n",
              "      <td>13,000 people receive #wildfires evacuation or...</td>\n",
              "      <td>1</td>\n",
              "    </tr>\n",
              "    <tr>\n",
              "      <th>4</th>\n",
              "      <td>Just got sent this photo from Ruby #Alaska as ...</td>\n",
              "      <td>1</td>\n",
              "    </tr>\n",
              "    <tr>\n",
              "      <th>...</th>\n",
              "      <td>...</td>\n",
              "      <td>...</td>\n",
              "    </tr>\n",
              "    <tr>\n",
              "      <th>7608</th>\n",
              "      <td>Two giant cranes holding a bridge collapse int...</td>\n",
              "      <td>1</td>\n",
              "    </tr>\n",
              "    <tr>\n",
              "      <th>7609</th>\n",
              "      <td>@aria_ahrary @TheTawniest The out of control w...</td>\n",
              "      <td>1</td>\n",
              "    </tr>\n",
              "    <tr>\n",
              "      <th>7610</th>\n",
              "      <td>M1.94 [01:04 UTC]?5km S of Volcano Hawaii. htt...</td>\n",
              "      <td>1</td>\n",
              "    </tr>\n",
              "    <tr>\n",
              "      <th>7611</th>\n",
              "      <td>Police investigating after an e-bike collided ...</td>\n",
              "      <td>1</td>\n",
              "    </tr>\n",
              "    <tr>\n",
              "      <th>7612</th>\n",
              "      <td>The Latest: More Homes Razed by Northern Calif...</td>\n",
              "      <td>1</td>\n",
              "    </tr>\n",
              "  </tbody>\n",
              "</table>\n",
              "<p>7613 rows × 2 columns</p>\n",
              "</div>\n",
              "      <button class=\"colab-df-convert\" onclick=\"convertToInteractive('df-191943d0-e18a-4ad3-9d50-15ef7569e0b7')\"\n",
              "              title=\"Convert this dataframe to an interactive table.\"\n",
              "              style=\"display:none;\">\n",
              "        \n",
              "  <svg xmlns=\"http://www.w3.org/2000/svg\" height=\"24px\"viewBox=\"0 0 24 24\"\n",
              "       width=\"24px\">\n",
              "    <path d=\"M0 0h24v24H0V0z\" fill=\"none\"/>\n",
              "    <path d=\"M18.56 5.44l.94 2.06.94-2.06 2.06-.94-2.06-.94-.94-2.06-.94 2.06-2.06.94zm-11 1L8.5 8.5l.94-2.06 2.06-.94-2.06-.94L8.5 2.5l-.94 2.06-2.06.94zm10 10l.94 2.06.94-2.06 2.06-.94-2.06-.94-.94-2.06-.94 2.06-2.06.94z\"/><path d=\"M17.41 7.96l-1.37-1.37c-.4-.4-.92-.59-1.43-.59-.52 0-1.04.2-1.43.59L10.3 9.45l-7.72 7.72c-.78.78-.78 2.05 0 2.83L4 21.41c.39.39.9.59 1.41.59.51 0 1.02-.2 1.41-.59l7.78-7.78 2.81-2.81c.8-.78.8-2.07 0-2.86zM5.41 20L4 18.59l7.72-7.72 1.47 1.35L5.41 20z\"/>\n",
              "  </svg>\n",
              "      </button>\n",
              "      \n",
              "  <style>\n",
              "    .colab-df-container {\n",
              "      display:flex;\n",
              "      flex-wrap:wrap;\n",
              "      gap: 12px;\n",
              "    }\n",
              "\n",
              "    .colab-df-convert {\n",
              "      background-color: #E8F0FE;\n",
              "      border: none;\n",
              "      border-radius: 50%;\n",
              "      cursor: pointer;\n",
              "      display: none;\n",
              "      fill: #1967D2;\n",
              "      height: 32px;\n",
              "      padding: 0 0 0 0;\n",
              "      width: 32px;\n",
              "    }\n",
              "\n",
              "    .colab-df-convert:hover {\n",
              "      background-color: #E2EBFA;\n",
              "      box-shadow: 0px 1px 2px rgba(60, 64, 67, 0.3), 0px 1px 3px 1px rgba(60, 64, 67, 0.15);\n",
              "      fill: #174EA6;\n",
              "    }\n",
              "\n",
              "    [theme=dark] .colab-df-convert {\n",
              "      background-color: #3B4455;\n",
              "      fill: #D2E3FC;\n",
              "    }\n",
              "\n",
              "    [theme=dark] .colab-df-convert:hover {\n",
              "      background-color: #434B5C;\n",
              "      box-shadow: 0px 1px 3px 1px rgba(0, 0, 0, 0.15);\n",
              "      filter: drop-shadow(0px 1px 2px rgba(0, 0, 0, 0.3));\n",
              "      fill: #FFFFFF;\n",
              "    }\n",
              "  </style>\n",
              "\n",
              "      <script>\n",
              "        const buttonEl =\n",
              "          document.querySelector('#df-191943d0-e18a-4ad3-9d50-15ef7569e0b7 button.colab-df-convert');\n",
              "        buttonEl.style.display =\n",
              "          google.colab.kernel.accessAllowed ? 'block' : 'none';\n",
              "\n",
              "        async function convertToInteractive(key) {\n",
              "          const element = document.querySelector('#df-191943d0-e18a-4ad3-9d50-15ef7569e0b7');\n",
              "          const dataTable =\n",
              "            await google.colab.kernel.invokeFunction('convertToInteractive',\n",
              "                                                     [key], {});\n",
              "          if (!dataTable) return;\n",
              "\n",
              "          const docLinkHtml = 'Like what you see? Visit the ' +\n",
              "            '<a target=\"_blank\" href=https://colab.research.google.com/notebooks/data_table.ipynb>data table notebook</a>'\n",
              "            + ' to learn more about interactive tables.';\n",
              "          element.innerHTML = '';\n",
              "          dataTable['output_type'] = 'display_data';\n",
              "          await google.colab.output.renderOutput(dataTable, element);\n",
              "          const docLink = document.createElement('div');\n",
              "          docLink.innerHTML = docLinkHtml;\n",
              "          element.appendChild(docLink);\n",
              "        }\n",
              "      </script>\n",
              "    </div>\n",
              "  </div>\n",
              "  "
            ]
          },
          "metadata": {},
          "execution_count": 14
        }
      ]
    },
    {
      "cell_type": "code",
      "source": [
        "test=pd.read_csv('/content/drive/MyDrive/kolok/test.csv')\n",
        "test.isnull().sum()"
      ],
      "metadata": {
        "colab": {
          "base_uri": "https://localhost:8080/"
        },
        "id": "gY1aEJiVh3y9",
        "outputId": "29a51e71-3cc8-4b33-ade6-3217af797ef5"
      },
      "execution_count": 15,
      "outputs": [
        {
          "output_type": "execute_result",
          "data": {
            "text/plain": [
              "id             0\n",
              "keyword       26\n",
              "location    1105\n",
              "text           0\n",
              "dtype: int64"
            ]
          },
          "metadata": {},
          "execution_count": 15
        }
      ]
    },
    {
      "cell_type": "code",
      "source": [
        "msngo.bar(test)"
      ],
      "metadata": {
        "colab": {
          "base_uri": "https://localhost:8080/",
          "height": 517
        },
        "id": "Eu_Q_ZGlce9u",
        "outputId": "62310489-93c4-4392-c2bf-50f40107d368"
      },
      "execution_count": 16,
      "outputs": [
        {
          "output_type": "execute_result",
          "data": {
            "text/plain": [
              "<matplotlib.axes._subplots.AxesSubplot at 0x7f199f9a0af0>"
            ]
          },
          "metadata": {},
          "execution_count": 16
        },
        {
          "output_type": "display_data",
          "data": {
            "text/plain": [
              "<Figure size 1800x720 with 3 Axes>"
            ],
            "image/png": "[encoded data removed]"
          },
          "metadata": {
            "needs_background": "light"
          }
        }
      ]
    },
    {
      "cell_type": "code",
      "source": [
        "test=test.drop(['keyword','location'],axis=1)\n",
        "test"
      ],
      "metadata": {
        "colab": {
          "base_uri": "https://localhost:8080/",
          "height": 424
        },
        "id": "esTZgwm3cYLm",
        "outputId": "eee2b4e3-72bd-4164-90b8-eaf8b11730f0"
      },
      "execution_count": 17,
      "outputs": [
        {
          "output_type": "execute_result",
          "data": {
            "text/plain": [
              "         id                                               text\n",
              "0         0                 Just happened a terrible car crash\n",
              "1         2  Heard about #earthquake is different cities, s...\n",
              "2         3  there is a forest fire at spot pond, geese are...\n",
              "3         9           Apocalypse lighting. #Spokane #wildfires\n",
              "4        11      Typhoon Soudelor kills 28 in China and Taiwan\n",
              "...     ...                                                ...\n",
              "3258  10861  EARTHQUAKE SAFETY LOS ANGELES ÛÒ SAFETY FASTE...\n",
              "3259  10865  Storm in RI worse than last hurricane. My city...\n",
              "3260  10868  Green Line derailment in Chicago http://t.co/U...\n",
              "3261  10874  MEG issues Hazardous Weather Outlook (HWO) htt...\n",
              "3262  10875  #CityofCalgary has activated its Municipal Eme...\n",
              "\n",
              "[3263 rows x 2 columns]"
            ],
            "text/html": [
              "\n",
              "  <div id=\"df-879c8f6c-d194-4a66-bf51-b8da8391c23c\">\n",
              "    <div class=\"colab-df-container\">\n",
              "      <div>\n",
              "<style scoped>\n",
              "    .dataframe tbody tr th:only-of-type {\n",
              "        vertical-align: middle;\n",
              "    }\n",
              "\n",
              "    .dataframe tbody tr th {\n",
              "        vertical-align: top;\n",
              "    }\n",
              "\n",
              "    .dataframe thead th {\n",
              "        text-align: right;\n",
              "    }\n",
              "</style>\n",
              "<table border=\"1\" class=\"dataframe\">\n",
              "  <thead>\n",
              "    <tr style=\"text-align: right;\">\n",
              "      <th></th>\n",
              "      <th>id</th>\n",
              "      <th>text</th>\n",
              "    </tr>\n",
              "  </thead>\n",
              "  <tbody>\n",
              "    <tr>\n",
              "      <th>0</th>\n",
              "      <td>0</td>\n",
              "      <td>Just happened a terrible car crash</td>\n",
              "    </tr>\n",
              "    <tr>\n",
              "      <th>1</th>\n",
              "      <td>2</td>\n",
              "      <td>Heard about #earthquake is different cities, s...</td>\n",
              "    </tr>\n",
              "    <tr>\n",
              "      <th>2</th>\n",
              "      <td>3</td>\n",
              "      <td>there is a forest fire at spot pond, geese are...</td>\n",
              "    </tr>\n",
              "    <tr>\n",
              "      <th>3</th>\n",
              "      <td>9</td>\n",
              "      <td>Apocalypse lighting. #Spokane #wildfires</td>\n",
              "    </tr>\n",
              "    <tr>\n",
              "      <th>4</th>\n",
              "      <td>11</td>\n",
              "      <td>Typhoon Soudelor kills 28 in China and Taiwan</td>\n",
              "    </tr>\n",
              "    <tr>\n",
              "      <th>...</th>\n",
              "      <td>...</td>\n",
              "      <td>...</td>\n",
              "    </tr>\n",
              "    <tr>\n",
              "      <th>3258</th>\n",
              "      <td>10861</td>\n",
              "      <td>EARTHQUAKE SAFETY LOS ANGELES ÛÒ SAFETY FASTE...</td>\n",
              "    </tr>\n",
              "    <tr>\n",
              "      <th>3259</th>\n",
              "      <td>10865</td>\n",
              "      <td>Storm in RI worse than last hurricane. My city...</td>\n",
              "    </tr>\n",
              "    <tr>\n",
              "      <th>3260</th>\n",
              "      <td>10868</td>\n",
              "      <td>Green Line derailment in Chicago http://t.co/U...</td>\n",
              "    </tr>\n",
              "    <tr>\n",
              "      <th>3261</th>\n",
              "      <td>10874</td>\n",
              "      <td>MEG issues Hazardous Weather Outlook (HWO) htt...</td>\n",
              "    </tr>\n",
              "    <tr>\n",
              "      <th>3262</th>\n",
              "      <td>10875</td>\n",
              "      <td>#CityofCalgary has activated its Municipal Eme...</td>\n",
              "    </tr>\n",
              "  </tbody>\n",
              "</table>\n",
              "<p>3263 rows × 2 columns</p>\n",
              "</div>\n",
              "      <button class=\"colab-df-convert\" onclick=\"convertToInteractive('df-879c8f6c-d194-4a66-bf51-b8da8391c23c')\"\n",
              "              title=\"Convert this dataframe to an interactive table.\"\n",
              "              style=\"display:none;\">\n",
              "        \n",
              "  <svg xmlns=\"http://www.w3.org/2000/svg\" height=\"24px\"viewBox=\"0 0 24 24\"\n",
              "       width=\"24px\">\n",
              "    <path d=\"M0 0h24v24H0V0z\" fill=\"none\"/>\n",
              "    <path d=\"M18.56 5.44l.94 2.06.94-2.06 2.06-.94-2.06-.94-.94-2.06-.94 2.06-2.06.94zm-11 1L8.5 8.5l.94-2.06 2.06-.94-2.06-.94L8.5 2.5l-.94 2.06-2.06.94zm10 10l.94 2.06.94-2.06 2.06-.94-2.06-.94-.94-2.06-.94 2.06-2.06.94z\"/><path d=\"M17.41 7.96l-1.37-1.37c-.4-.4-.92-.59-1.43-.59-.52 0-1.04.2-1.43.59L10.3 9.45l-7.72 7.72c-.78.78-.78 2.05 0 2.83L4 21.41c.39.39.9.59 1.41.59.51 0 1.02-.2 1.41-.59l7.78-7.78 2.81-2.81c.8-.78.8-2.07 0-2.86zM5.41 20L4 18.59l7.72-7.72 1.47 1.35L5.41 20z\"/>\n",
              "  </svg>\n",
              "      </button>\n",
              "      \n",
              "  <style>\n",
              "    .colab-df-container {\n",
              "      display:flex;\n",
              "      flex-wrap:wrap;\n",
              "      gap: 12px;\n",
              "    }\n",
              "\n",
              "    .colab-df-convert {\n",
              "      background-color: #E8F0FE;\n",
              "      border: none;\n",
              "      border-radius: 50%;\n",
              "      cursor: pointer;\n",
              "      display: none;\n",
              "      fill: #1967D2;\n",
              "      height: 32px;\n",
              "      padding: 0 0 0 0;\n",
              "      width: 32px;\n",
              "    }\n",
              "\n",
              "    .colab-df-convert:hover {\n",
              "      background-color: #E2EBFA;\n",
              "      box-shadow: 0px 1px 2px rgba(60, 64, 67, 0.3), 0px 1px 3px 1px rgba(60, 64, 67, 0.15);\n",
              "      fill: #174EA6;\n",
              "    }\n",
              "\n",
              "    [theme=dark] .colab-df-convert {\n",
              "      background-color: #3B4455;\n",
              "      fill: #D2E3FC;\n",
              "    }\n",
              "\n",
              "    [theme=dark] .colab-df-convert:hover {\n",
              "      background-color: #434B5C;\n",
              "      box-shadow: 0px 1px 3px 1px rgba(0, 0, 0, 0.15);\n",
              "      filter: drop-shadow(0px 1px 2px rgba(0, 0, 0, 0.3));\n",
              "      fill: #FFFFFF;\n",
              "    }\n",
              "  </style>\n",
              "\n",
              "      <script>\n",
              "        const buttonEl =\n",
              "          document.querySelector('#df-879c8f6c-d194-4a66-bf51-b8da8391c23c button.colab-df-convert');\n",
              "        buttonEl.style.display =\n",
              "          google.colab.kernel.accessAllowed ? 'block' : 'none';\n",
              "\n",
              "        async function convertToInteractive(key) {\n",
              "          const element = document.querySelector('#df-879c8f6c-d194-4a66-bf51-b8da8391c23c');\n",
              "          const dataTable =\n",
              "            await google.colab.kernel.invokeFunction('convertToInteractive',\n",
              "                                                     [key], {});\n",
              "          if (!dataTable) return;\n",
              "\n",
              "          const docLinkHtml = 'Like what you see? Visit the ' +\n",
              "            '<a target=\"_blank\" href=https://colab.research.google.com/notebooks/data_table.ipynb>data table notebook</a>'\n",
              "            + ' to learn more about interactive tables.';\n",
              "          element.innerHTML = '';\n",
              "          dataTable['output_type'] = 'display_data';\n",
              "          await google.colab.output.renderOutput(dataTable, element);\n",
              "          const docLink = document.createElement('div');\n",
              "          docLink.innerHTML = docLinkHtml;\n",
              "          element.appendChild(docLink);\n",
              "        }\n",
              "      </script>\n",
              "    </div>\n",
              "  </div>\n",
              "  "
            ]
          },
          "metadata": {},
          "execution_count": 17
        }
      ]
    },
    {
      "cell_type": "code",
      "source": [
        "target=pd.read_csv('/content/drive/MyDrive/kolok/sample_submission.csv')\n",
        "target"
      ],
      "metadata": {
        "colab": {
          "base_uri": "https://localhost:8080/",
          "height": 424
        },
        "id": "wZSvrYTjiL9R",
        "outputId": "8bc3f770-a2fc-4d48-f5a8-716ae60168ac"
      },
      "execution_count": 18,
      "outputs": [
        {
          "output_type": "execute_result",
          "data": {
            "text/plain": [
              "         id  target\n",
              "0         0       0\n",
              "1         2       0\n",
              "2         3       0\n",
              "3         9       0\n",
              "4        11       0\n",
              "...     ...     ...\n",
              "3258  10861       0\n",
              "3259  10865       0\n",
              "3260  10868       0\n",
              "3261  10874       0\n",
              "3262  10875       0\n",
              "\n",
              "[3263 rows x 2 columns]"
            ],
            "text/html": [
              "\n",
              "  <div id=\"df-ddf1943c-0781-4c53-bcf8-0f38d7299bb0\">\n",
              "    <div class=\"colab-df-container\">\n",
              "      <div>\n",
              "<style scoped>\n",
              "    .dataframe tbody tr th:only-of-type {\n",
              "        vertical-align: middle;\n",
              "    }\n",
              "\n",
              "    .dataframe tbody tr th {\n",
              "        vertical-align: top;\n",
              "    }\n",
              "\n",
              "    .dataframe thead th {\n",
              "        text-align: right;\n",
              "    }\n",
              "</style>\n",
              "<table border=\"1\" class=\"dataframe\">\n",
              "  <thead>\n",
              "    <tr style=\"text-align: right;\">\n",
              "      <th></th>\n",
              "      <th>id</th>\n",
              "      <th>target</th>\n",
              "    </tr>\n",
              "  </thead>\n",
              "  <tbody>\n",
              "    <tr>\n",
              "      <th>0</th>\n",
              "      <td>0</td>\n",
              "      <td>0</td>\n",
              "    </tr>\n",
              "    <tr>\n",
              "      <th>1</th>\n",
              "      <td>2</td>\n",
              "      <td>0</td>\n",
              "    </tr>\n",
              "    <tr>\n",
              "      <th>2</th>\n",
              "      <td>3</td>\n",
              "      <td>0</td>\n",
              "    </tr>\n",
              "    <tr>\n",
              "      <th>3</th>\n",
              "      <td>9</td>\n",
              "      <td>0</td>\n",
              "    </tr>\n",
              "    <tr>\n",
              "      <th>4</th>\n",
              "      <td>11</td>\n",
              "      <td>0</td>\n",
              "    </tr>\n",
              "    <tr>\n",
              "      <th>...</th>\n",
              "      <td>...</td>\n",
              "      <td>...</td>\n",
              "    </tr>\n",
              "    <tr>\n",
              "      <th>3258</th>\n",
              "      <td>10861</td>\n",
              "      <td>0</td>\n",
              "    </tr>\n",
              "    <tr>\n",
              "      <th>3259</th>\n",
              "      <td>10865</td>\n",
              "      <td>0</td>\n",
              "    </tr>\n",
              "    <tr>\n",
              "      <th>3260</th>\n",
              "      <td>10868</td>\n",
              "      <td>0</td>\n",
              "    </tr>\n",
              "    <tr>\n",
              "      <th>3261</th>\n",
              "      <td>10874</td>\n",
              "      <td>0</td>\n",
              "    </tr>\n",
              "    <tr>\n",
              "      <th>3262</th>\n",
              "      <td>10875</td>\n",
              "      <td>0</td>\n",
              "    </tr>\n",
              "  </tbody>\n",
              "</table>\n",
              "<p>3263 rows × 2 columns</p>\n",
              "</div>\n",
              "      <button class=\"colab-df-convert\" onclick=\"convertToInteractive('df-ddf1943c-0781-4c53-bcf8-0f38d7299bb0')\"\n",
              "              title=\"Convert this dataframe to an interactive table.\"\n",
              "              style=\"display:none;\">\n",
              "        \n",
              "  <svg xmlns=\"http://www.w3.org/2000/svg\" height=\"24px\"viewBox=\"0 0 24 24\"\n",
              "       width=\"24px\">\n",
              "    <path d=\"M0 0h24v24H0V0z\" fill=\"none\"/>\n",
              "    <path d=\"M18.56 5.44l.94 2.06.94-2.06 2.06-.94-2.06-.94-.94-2.06-.94 2.06-2.06.94zm-11 1L8.5 8.5l.94-2.06 2.06-.94-2.06-.94L8.5 2.5l-.94 2.06-2.06.94zm10 10l.94 2.06.94-2.06 2.06-.94-2.06-.94-.94-2.06-.94 2.06-2.06.94z\"/><path d=\"M17.41 7.96l-1.37-1.37c-.4-.4-.92-.59-1.43-.59-.52 0-1.04.2-1.43.59L10.3 9.45l-7.72 7.72c-.78.78-.78 2.05 0 2.83L4 21.41c.39.39.9.59 1.41.59.51 0 1.02-.2 1.41-.59l7.78-7.78 2.81-2.81c.8-.78.8-2.07 0-2.86zM5.41 20L4 18.59l7.72-7.72 1.47 1.35L5.41 20z\"/>\n",
              "  </svg>\n",
              "      </button>\n",
              "      \n",
              "  <style>\n",
              "    .colab-df-container {\n",
              "      display:flex;\n",
              "      flex-wrap:wrap;\n",
              "      gap: 12px;\n",
              "    }\n",
              "\n",
              "    .colab-df-convert {\n",
              "      background-color: #E8F0FE;\n",
              "      border: none;\n",
              "      border-radius: 50%;\n",
              "      cursor: pointer;\n",
              "      display: none;\n",
              "      fill: #1967D2;\n",
              "      height: 32px;\n",
              "      padding: 0 0 0 0;\n",
              "      width: 32px;\n",
              "    }\n",
              "\n",
              "    .colab-df-convert:hover {\n",
              "      background-color: #E2EBFA;\n",
              "      box-shadow: 0px 1px 2px rgba(60, 64, 67, 0.3), 0px 1px 3px 1px rgba(60, 64, 67, 0.15);\n",
              "      fill: #174EA6;\n",
              "    }\n",
              "\n",
              "    [theme=dark] .colab-df-convert {\n",
              "      background-color: #3B4455;\n",
              "      fill: #D2E3FC;\n",
              "    }\n",
              "\n",
              "    [theme=dark] .colab-df-convert:hover {\n",
              "      background-color: #434B5C;\n",
              "      box-shadow: 0px 1px 3px 1px rgba(0, 0, 0, 0.15);\n",
              "      filter: drop-shadow(0px 1px 2px rgba(0, 0, 0, 0.3));\n",
              "      fill: #FFFFFF;\n",
              "    }\n",
              "  </style>\n",
              "\n",
              "      <script>\n",
              "        const buttonEl =\n",
              "          document.querySelector('#df-ddf1943c-0781-4c53-bcf8-0f38d7299bb0 button.colab-df-convert');\n",
              "        buttonEl.style.display =\n",
              "          google.colab.kernel.accessAllowed ? 'block' : 'none';\n",
              "\n",
              "        async function convertToInteractive(key) {\n",
              "          const element = document.querySelector('#df-ddf1943c-0781-4c53-bcf8-0f38d7299bb0');\n",
              "          const dataTable =\n",
              "            await google.colab.kernel.invokeFunction('convertToInteractive',\n",
              "                                                     [key], {});\n",
              "          if (!dataTable) return;\n",
              "\n",
              "          const docLinkHtml = 'Like what you see? Visit the ' +\n",
              "            '<a target=\"_blank\" href=https://colab.research.google.com/notebooks/data_table.ipynb>data table notebook</a>'\n",
              "            + ' to learn more about interactive tables.';\n",
              "          element.innerHTML = '';\n",
              "          dataTable['output_type'] = 'display_data';\n",
              "          await google.colab.output.renderOutput(dataTable, element);\n",
              "          const docLink = document.createElement('div');\n",
              "          docLink.innerHTML = docLinkHtml;\n",
              "          element.appendChild(docLink);\n",
              "        }\n",
              "      </script>\n",
              "    </div>\n",
              "  </div>\n",
              "  "
            ]
          },
          "metadata": {},
          "execution_count": 18
        }
      ]
    },
    {
      "cell_type": "code",
      "source": [
        "test=test.merge(target, left_on='id', right_on='id')\n",
        "test=test.drop(['id'],axis=1)\n",
        "test.rename(columns = {'target':'label'}, inplace = True)"
      ],
      "metadata": {
        "id": "7tx9a0Ptigq_"
      },
      "execution_count": 19,
      "outputs": []
    },
    {
      "cell_type": "code",
      "source": [
        "train.to_csv('train_final.csv',index=False)\n",
        "test.to_csv('test_final.csv',index=False)"
      ],
      "metadata": {
        "id": "Sr7WCulyjAky"
      },
      "execution_count": 20,
      "outputs": []
    },
    {
      "cell_type": "markdown",
      "source": [
        "##Encoding"
      ],
      "metadata": {
        "id": "8z_haNgnotvk"
      }
    },
    {
      "cell_type": "code",
      "source": [
        "from datasets import load_dataset\n",
        "from transformers import AutoTokenizer, AutoModelForSequenceClassification\n",
        "\n",
        "tokenizer = AutoTokenizer.from_pretrained(\"bert-base-uncased\")"
      ],
      "metadata": {
        "colab": {
          "base_uri": "https://localhost:8080/"
        },
        "id": "0spj0kWohU0L",
        "outputId": "ab7124a8-e9bc-450e-f8be-9b9e9a2873cd"
      },
      "execution_count": 50,
      "outputs": [
        {
          "output_type": "stream",
          "name": "stderr",
          "text": [
            "loading configuration file config.json from cache at /root/.cache/huggingface/hub/models--bert-base-uncased/snapshots/0a6aa9128b6194f4f3c4db429b6cb4891cdb421b/config.json\n",
            "Model config BertConfig {\n",
            "  \"_name_or_path\": \"bert-base-uncased\",\n",
            "  \"architectures\": [\n",
            "    \"BertForMaskedLM\"\n",
            "  ],\n",
            "  \"attention_probs_dropout_prob\": 0.1,\n",
            "  \"classifier_dropout\": null,\n",
            "  \"gradient_checkpointing\": false,\n",
            "  \"hidden_act\": \"gelu\",\n",
            "  \"hidden_dropout_prob\": 0.1,\n",
            "  \"hidden_size\": 768,\n",
            "  \"initializer_range\": 0.02,\n",
            "  \"intermediate_size\": 3072,\n",
            "  \"layer_norm_eps\": 1e-12,\n",
            "  \"max_position_embeddings\": 512,\n",
            "  \"model_type\": \"bert\",\n",
            "  \"num_attention_heads\": 12,\n",
            "  \"num_hidden_layers\": 12,\n",
            "  \"pad_token_id\": 0,\n",
            "  \"position_embedding_type\": \"absolute\",\n",
            "  \"transformers_version\": \"4.26.0\",\n",
            "  \"type_vocab_size\": 2,\n",
            "  \"use_cache\": true,\n",
            "  \"vocab_size\": 30522\n",
            "}\n",
            "\n",
            "loading file vocab.txt from cache at /root/.cache/huggingface/hub/models--bert-base-uncased/snapshots/0a6aa9128b6194f4f3c4db429b6cb4891cdb421b/vocab.txt\n",
            "loading file tokenizer.json from cache at /root/.cache/huggingface/hub/models--bert-base-uncased/snapshots/0a6aa9128b6194f4f3c4db429b6cb4891cdb421b/tokenizer.json\n",
            "loading file added_tokens.json from cache at None\n",
            "loading file special_tokens_map.json from cache at None\n",
            "loading file tokenizer_config.json from cache at /root/.cache/huggingface/hub/models--bert-base-uncased/snapshots/0a6aa9128b6194f4f3c4db429b6cb4891cdb421b/tokenizer_config.json\n",
            "loading configuration file config.json from cache at /root/.cache/huggingface/hub/models--bert-base-uncased/snapshots/0a6aa9128b6194f4f3c4db429b6cb4891cdb421b/config.json\n",
            "Model config BertConfig {\n",
            "  \"_name_or_path\": \"bert-base-uncased\",\n",
            "  \"architectures\": [\n",
            "    \"BertForMaskedLM\"\n",
            "  ],\n",
            "  \"attention_probs_dropout_prob\": 0.1,\n",
            "  \"classifier_dropout\": null,\n",
            "  \"gradient_checkpointing\": false,\n",
            "  \"hidden_act\": \"gelu\",\n",
            "  \"hidden_dropout_prob\": 0.1,\n",
            "  \"hidden_size\": 768,\n",
            "  \"initializer_range\": 0.02,\n",
            "  \"intermediate_size\": 3072,\n",
            "  \"layer_norm_eps\": 1e-12,\n",
            "  \"max_position_embeddings\": 512,\n",
            "  \"model_type\": \"bert\",\n",
            "  \"num_attention_heads\": 12,\n",
            "  \"num_hidden_layers\": 12,\n",
            "  \"pad_token_id\": 0,\n",
            "  \"position_embedding_type\": \"absolute\",\n",
            "  \"transformers_version\": \"4.26.0\",\n",
            "  \"type_vocab_size\": 2,\n",
            "  \"use_cache\": true,\n",
            "  \"vocab_size\": 30522\n",
            "}\n",
            "\n"
          ]
        }
      ]
    },
    {
      "cell_type": "code",
      "source": [
        "dataset = load_dataset(\"csv\", data_files={\"train\": \"train_final.csv\", \"test\": \"test_final.csv\"})"
      ],
      "metadata": {
        "colab": {
          "base_uri": "https://localhost:8080/",
          "height": 104,
          "referenced_widgets": [
            "0d5a5332ba484c6f9c5196017aa1478f",
            "4374d2e2d1d64ce6b51684c8d0110a68",
            "eeb9f897f0be48ec88c2647bc8e33890",
            "53d961f832a14f4a919e381d2bb0e6fb",
            "b78fc6b4b65b4b05a0c7d9e614dd7d5e",
            "29c07240476a47a58b29cd14f950de8e",
            "1d911d29b5234bd8926c428287c0c862",
            "b027a5c5fb8f41e2908425ba82fed957",
            "502a2d333ea74b7c8f491084d334b7c7",
            "d2af54c4ca4d46a3a7300ac49852ec68",
            "36d0b36d976c4e898bf0f063ae0c2782"
          ]
        },
        "id": "sZjWVnG9jeDw",
        "outputId": "04ea17f3-dbcb-4ae2-9964-d8181e5c725b"
      },
      "execution_count": 51,
      "outputs": [
        {
          "output_type": "stream",
          "name": "stderr",
          "text": [
            "WARNING:datasets.builder:Using custom data configuration default-06aafb956ce0f000\n",
            "WARNING:datasets.builder:Found cached dataset csv (/root/.cache/huggingface/datasets/csv/default-06aafb956ce0f000/0.0.0/6b34fb8fcf56f7c8ba51dc895bfa2bfbe43546f190a60fcf74bb5e8afdcc2317)\n"
          ]
        },
        {
          "output_type": "display_data",
          "data": {
            "text/plain": [
              "  0%|          | 0/2 [00:00<?, ?it/s]"
            ],
            "application/vnd.jupyter.widget-view+json": {
              "version_major": 2,
              "version_minor": 0,
              "model_id": "0d5a5332ba484c6f9c5196017aa1478f"
            }
          },
          "metadata": {}
        }
      ]
    },
    {
      "cell_type": "code",
      "source": [
        "encoded_dataset = dataset.map(lambda t: tokenizer(t['text'],  truncation=True), batched=True,load_from_cache_file=False)"
      ],
      "metadata": {
        "colab": {
          "base_uri": "https://localhost:8080/",
          "height": 81,
          "referenced_widgets": [
            "c15f9d9175e54a9f91da4ac404219136",
            "2525b734ab664b40a8aa18254ddf2bc2",
            "98030f77d7be4c89bb08def3f6382278",
            "3d65f6c91054444aac4a96131e103eb5",
            "d1262211954b417b992a8341b84bdbf0",
            "c58924540d4d42868c2c3b76a6d2da54",
            "5db0a884caae4798bca55f349fd3c83f",
            "c04e3b76b66a41979c44c01e3bcbe1c4",
            "c83fcfc970fd40b380b641b82e5b9546",
            "bc5c3e60e6614b84a6f637fe3b592205",
            "5b9e9c5645794ee0ab9758485417ffae",
            "6db8af6b91d34ef8b16300458957ec86",
            "3303941c3cbb4ce5a26ba868da4f398d",
            "82f59e8c4774493e898e5689e7dbf766",
            "42019e75e7e743339ef8fdc782313f0f",
            "39ae06d93b714fb881e46c0087b71eca",
            "17d3fb08637244548c12fdd59c1d45ee",
            "50c8d9ea6f3d4c07a8831dd539e26353",
            "146d303ab01242f49efc58b8c92b5211",
            "db1e39d364c94100952ceae9d38eb0c2",
            "07a3a7b996984e3081f2bf2b85fabdcb",
            "c3ebcbb4554047cba884787358282cbf"
          ]
        },
        "id": "_4kVF6A6jhQ-",
        "outputId": "e2f5b783-91e6-4dfe-a2fa-ad65fd138ccf"
      },
      "execution_count": 52,
      "outputs": [
        {
          "output_type": "display_data",
          "data": {
            "text/plain": [
              "  0%|          | 0/8 [00:00<?, ?ba/s]"
            ],
            "application/vnd.jupyter.widget-view+json": {
              "version_major": 2,
              "version_minor": 0,
              "model_id": "c15f9d9175e54a9f91da4ac404219136"
            }
          },
          "metadata": {}
        },
        {
          "output_type": "display_data",
          "data": {
            "text/plain": [
              "  0%|          | 0/4 [00:00<?, ?ba/s]"
            ],
            "application/vnd.jupyter.widget-view+json": {
              "version_major": 2,
              "version_minor": 0,
              "model_id": "6db8af6b91d34ef8b16300458957ec86"
            }
          },
          "metadata": {}
        }
      ]
    },
    {
      "cell_type": "markdown",
      "source": [
        "##Pretrained"
      ],
      "metadata": {
        "id": "6cQLM-lGoWZ1"
      }
    },
    {
      "cell_type": "code",
      "source": [
        "model = AutoModelForSequenceClassification.from_pretrained('bert-base-uncased',num_labels =2)"
      ],
      "metadata": {
        "colab": {
          "base_uri": "https://localhost:8080/"
        },
        "id": "_mTqfQA_hZgC",
        "outputId": "20f52cd6-057d-4eec-f496-2a1d99be718e"
      },
      "execution_count": 53,
      "outputs": [
        {
          "output_type": "stream",
          "name": "stderr",
          "text": [
            "loading configuration file config.json from cache at /root/.cache/huggingface/hub/models--bert-base-uncased/snapshots/0a6aa9128b6194f4f3c4db429b6cb4891cdb421b/config.json\n",
            "Model config BertConfig {\n",
            "  \"_name_or_path\": \"bert-base-uncased\",\n",
            "  \"architectures\": [\n",
            "    \"BertForMaskedLM\"\n",
            "  ],\n",
            "  \"attention_probs_dropout_prob\": 0.1,\n",
            "  \"classifier_dropout\": null,\n",
            "  \"gradient_checkpointing\": false,\n",
            "  \"hidden_act\": \"gelu\",\n",
            "  \"hidden_dropout_prob\": 0.1,\n",
            "  \"hidden_size\": 768,\n",
            "  \"initializer_range\": 0.02,\n",
            "  \"intermediate_size\": 3072,\n",
            "  \"layer_norm_eps\": 1e-12,\n",
            "  \"max_position_embeddings\": 512,\n",
            "  \"model_type\": \"bert\",\n",
            "  \"num_attention_heads\": 12,\n",
            "  \"num_hidden_layers\": 12,\n",
            "  \"pad_token_id\": 0,\n",
            "  \"position_embedding_type\": \"absolute\",\n",
            "  \"transformers_version\": \"4.26.0\",\n",
            "  \"type_vocab_size\": 2,\n",
            "  \"use_cache\": true,\n",
            "  \"vocab_size\": 30522\n",
            "}\n",
            "\n",
            "loading weights file pytorch_model.bin from cache at /root/.cache/huggingface/hub/models--bert-base-uncased/snapshots/0a6aa9128b6194f4f3c4db429b6cb4891cdb421b/pytorch_model.bin\n",
            "Some weights of the model checkpoint at bert-base-uncased were not used when initializing BertForSequenceClassification: ['cls.seq_relationship.bias', 'cls.predictions.transform.dense.weight', 'cls.seq_relationship.weight', 'cls.predictions.decoder.weight', 'cls.predictions.bias', 'cls.predictions.transform.dense.bias', 'cls.predictions.transform.LayerNorm.weight', 'cls.predictions.transform.LayerNorm.bias']\n",
            "- This IS expected if you are initializing BertForSequenceClassification from the checkpoint of a model trained on another task or with another architecture (e.g. initializing a BertForSequenceClassification model from a BertForPreTraining model).\n",
            "- This IS NOT expected if you are initializing BertForSequenceClassification from the checkpoint of a model that you expect to be exactly identical (initializing a BertForSequenceClassification model from a BertForSequenceClassification model).\n",
            "Some weights of BertForSequenceClassification were not initialized from the model checkpoint at bert-base-uncased and are newly initialized: ['classifier.bias', 'classifier.weight']\n",
            "You should probably TRAIN this model on a down-stream task to be able to use it for predictions and inference.\n"
          ]
        }
      ]
    },
    {
      "cell_type": "code",
      "source": [
        "from transformers import TrainingArguments, Trainer\n",
        "arg = TrainingArguments(\n",
        "    \"sentiment\",\n",
        "    learning_rate=5e-5,\n",
        "    num_train_epochs=4,\n",
        "    per_device_eval_batch_size=32,\n",
        "    per_device_train_batch_size=32,\n",
        "    seed=19\n",
        ")\n",
        "trainer = Trainer(\n",
        "    model=model,\n",
        "    args=arg,\n",
        "    tokenizer=tokenizer,\n",
        "    train_dataset=encoded_dataset['train'],\n",
        "    eval_dataset=encoded_dataset['test']\n",
        ")"
      ],
      "metadata": {
        "colab": {
          "base_uri": "https://localhost:8080/"
        },
        "id": "gE0GWumojz1j",
        "outputId": "440dcc6a-85a5-4f6f-8cd5-1ce9df68c638"
      },
      "execution_count": 61,
      "outputs": [
        {
          "output_type": "stream",
          "name": "stderr",
          "text": [
            "PyTorch: setting up devices\n",
            "The default value for the training argument `--report_to` will change in v5 (from all installed integrations to none). In v5, you will need to use `--report_to all` to get the same behavior as now. You should start updating your code and make this info disappear :-).\n"
          ]
        }
      ]
    },
    {
      "cell_type": "code",
      "source": [
        "trainer.train()"
      ],
      "metadata": {
        "colab": {
          "base_uri": "https://localhost:8080/",
          "height": 491
        },
        "id": "g8qT65vRkFSk",
        "outputId": "3de3eada-06f5-4841-bcad-811f7871db60"
      },
      "execution_count": 62,
      "outputs": [
        {
          "output_type": "stream",
          "name": "stderr",
          "text": [
            "The following columns in the training set don't have a corresponding argument in `BertForSequenceClassification.forward` and have been ignored: text. If text are not expected by `BertForSequenceClassification.forward`,  you can safely ignore this message.\n",
            "***** Running training *****\n",
            "  Num examples = 7613\n",
            "  Num Epochs = 4\n",
            "  Instantaneous batch size per device = 32\n",
            "  Total train batch size (w. parallel, distributed & accumulation) = 32\n",
            "  Gradient Accumulation steps = 1\n",
            "  Total optimization steps = 952\n",
            "  Number of trainable parameters = 109483778\n"
          ]
        },
        {
          "output_type": "display_data",
          "data": {
            "text/plain": [
              "<IPython.core.display.HTML object>"
            ],
            "text/html": [
              "\n",
              "    <div>\n",
              "      \n",
              "      <progress value='952' max='952' style='width:300px; height:20px; vertical-align: middle;'></progress>\n",
              "      [952/952 05:20, Epoch 4/4]\n",
              "    </div>\n",
              "    <table border=\"1\" class=\"dataframe\">\n",
              "  <thead>\n",
              " <tr style=\"text-align: left;\">\n",
              "      <th>Step</th>\n",
              "      <th>Training Loss</th>\n",
              "    </tr>\n",
              "  </thead>\n",
              "  <tbody>\n",
              "    <tr>\n",
              "      <td>500</td>\n",
              "      <td>0.064300</td>\n",
              "    </tr>\n",
              "  </tbody>\n",
              "</table><p>"
            ]
          },
          "metadata": {}
        },
        {
          "output_type": "stream",
          "name": "stderr",
          "text": [
            "Saving model checkpoint to sentiment/checkpoint-500\n",
            "Configuration saved in sentiment/checkpoint-500/config.json\n",
            "Model weights saved in sentiment/checkpoint-500/pytorch_model.bin\n",
            "tokenizer config file saved in sentiment/checkpoint-500/tokenizer_config.json\n",
            "Special tokens file saved in sentiment/checkpoint-500/special_tokens_map.json\n",
            "\n",
            "\n",
            "Training completed. Do not forget to share your model on huggingface.co/models =)\n",
            "\n",
            "\n"
          ]
        },
        {
          "output_type": "execute_result",
          "data": {
            "text/plain": [
              "TrainOutput(global_step=952, training_loss=0.05144945513300535, metrics={'train_runtime': 321.2243, 'train_samples_per_second': 94.8, 'train_steps_per_second': 2.964, 'total_flos': 907927904839620.0, 'train_loss': 0.05144945513300535, 'epoch': 4.0})"
            ]
          },
          "metadata": {},
          "execution_count": 62
        }
      ]
    },
    {
      "cell_type": "markdown",
      "source": [
        "##Evaluating"
      ],
      "metadata": {
        "id": "JEoUdgA3n97s"
      }
    },
    {
      "cell_type": "code",
      "source": [
        "y_pred = trainer.predict(encoded_dataset['test'])\n",
        "y_pred = y_pred.predictions"
      ],
      "metadata": {
        "colab": {
          "base_uri": "https://localhost:8080/",
          "height": 106
        },
        "id": "mai93s_3kuRG",
        "outputId": "6679f10d-69c4-43ee-f1f3-1375f29262a6"
      },
      "execution_count": 63,
      "outputs": [
        {
          "output_type": "stream",
          "name": "stderr",
          "text": [
            "The following columns in the test set don't have a corresponding argument in `BertForSequenceClassification.forward` and have been ignored: text. If text are not expected by `BertForSequenceClassification.forward`,  you can safely ignore this message.\n",
            "***** Running Prediction *****\n",
            "  Num examples = 3263\n",
            "  Batch size = 32\n"
          ]
        },
        {
          "output_type": "display_data",
          "data": {
            "text/plain": [
              "<IPython.core.display.HTML object>"
            ],
            "text/html": []
          },
          "metadata": {}
        }
      ]
    },
    {
      "cell_type": "code",
      "source": [
        "import numpy as np\n",
        "y_pred = [np.argmax(y_pred[i]) for i in range(0,len(y_pred))]"
      ],
      "metadata": {
        "id": "R0AsTUkSmkLd"
      },
      "execution_count": 64,
      "outputs": []
    },
    {
      "cell_type": "code",
      "source": [
        "import datasets\n",
        "final = datasets.Dataset.from_dict({\n",
        "    'id':target['id'],\n",
        "    'target': y_pred\n",
        "})\n",
        "\n",
        "final.to_csv('final.csv', index=False)"
      ],
      "metadata": {
        "colab": {
          "base_uri": "https://localhost:8080/",
          "height": 66,
          "referenced_widgets": [
            "784734a8b60c415fa5ea6c0baa489640",
            "70367deb73674512bcd9a0fd62965f12",
            "c7a009d0e2f843de9f9d5f8a19491a96",
            "bd7ae477c97c424d8f648cc0b37cc2b8",
            "f8bcd97ba6cf4d9c8f02dfa98bc44ce9",
            "1fd59bfab786491883e6c598c3e38c93",
            "4a629ad677a04129bf3d69faf598d3ac",
            "28463afb8cea442fb2b61e0ce69b4804",
            "3c97499ba88141d2b0deced359258603",
            "f3ac97e99ab94da39ad9b65271460b6e",
            "e029a513983c48dd912711fa1f1283f5"
          ]
        },
        "id": "3nOJl6kGt1B9",
        "outputId": "e61ff76e-6863-47e8-9fd1-eb31d20134ca"
      },
      "execution_count": 65,
      "outputs": [
        {
          "output_type": "display_data",
          "data": {
            "text/plain": [
              "Creating CSV from Arrow format:   0%|          | 0/4 [00:00<?, ?ba/s]"
            ],
            "application/vnd.jupyter.widget-view+json": {
              "version_major": 2,
              "version_minor": 0,
              "model_id": "784734a8b60c415fa5ea6c0baa489640"
            }
          },
          "metadata": {}
        },
        {
          "output_type": "execute_result",
          "data": {
            "text/plain": [
              "22746"
            ]
          },
          "metadata": {},
          "execution_count": 65
        }
      ]
    },
    {
      "cell_type": "markdown",
      "source": [
        "![Screenshot_1.jpg](data:image/jpeg;base64,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)"
      ],
      "metadata": {
        "id": "PXq7nFfFMTC5"
      }
    },
    {
      "cell_type": "markdown",
      "source": [
        "#Second Part"
      ],
      "metadata": {
        "id": "wraSnShkqQdF"
      }
    },
    {
      "cell_type": "code",
      "source": [
        "from absl import logging\n",
        "import tensorflow as tf\n",
        "import tensorflow_hub as hub\n",
        "import matplotlib.pyplot as plt\n",
        "import numpy as np\n",
        "import os\n",
        "import pandas as pd\n",
        "import re\n",
        "import seaborn as sns\n",
        "\n",
        "module_url = \"https://tfhub.dev/google/universal-sentence-encoder/4\"\n",
        "model = hub.load(module_url)\n",
        "print (\"module %s loaded\" % module_url)\n",
        "\n",
        "def embed(input):\n",
        "  return model(input)"
      ],
      "metadata": {
        "colab": {
          "base_uri": "https://localhost:8080/"
        },
        "id": "HC0QRIlBoyPW",
        "outputId": "fcc13862-74b1-4795-a80d-4b3725032a6e"
      },
      "execution_count": null,
      "outputs": [
        {
          "output_type": "stream",
          "name": "stdout",
          "text": [
            "module https://tfhub.dev/google/universal-sentence-encoder/4 loaded\n"
          ]
        }
      ]
    },
    {
      "cell_type": "code",
      "source": [
        "message_embeddings = embed(train.text.values)"
      ],
      "metadata": {
        "id": "SGGblCr2rZql"
      },
      "execution_count": null,
      "outputs": []
    },
    {
      "cell_type": "markdown",
      "source": [
        "##KMeans"
      ],
      "metadata": {
        "id": "dZnqlVcfrOIc"
      }
    },
    {
      "cell_type": "code",
      "source": [
        "from sklearn.cluster import KMeans\n",
        "\n",
        "km = KMeans(n_clusters=3)"
      ],
      "metadata": {
        "id": "6YzYD7NZr6yN"
      },
      "execution_count": null,
      "outputs": []
    },
    {
      "cell_type": "code",
      "source": [
        "from sklearn.decomposition import PCA\n",
        "import numpy as np\n",
        "\n",
        "data = message_embeddings\n",
        "pca = PCA(2)\n",
        " \n",
        "df_new = pca.fit_transform(data)"
      ],
      "metadata": {
        "id": "oMxeVDaursiV"
      },
      "execution_count": null,
      "outputs": []
    },
    {
      "cell_type": "code",
      "source": [
        "kmeans = KMeans(n_clusters=3)\n",
        "\n",
        "label = kmeans.fit_predict(df_new)\n",
        "\n",
        "u_labels = np.unique(label)\n",
        " \n",
        "labels = kmeans.labels_"
      ],
      "metadata": {
        "id": "V_LCiyNzrQg-"
      },
      "execution_count": null,
      "outputs": []
    },
    {
      "cell_type": "code",
      "source": [
        "import matplotlib.pyplot as plt\n",
        "import seaborn as sns\n",
        "\n",
        "for i in u_labels:\n",
        "    plt.scatter(df_new[label == i , 0] , df_new[label == i , 1] , label = i)\n",
        "    \n",
        "plt.legend()\n",
        "plt.show()"
      ],
      "metadata": {
        "colab": {
          "base_uri": "https://localhost:8080/",
          "height": 265
        },
        "id": "SSJe-ARCrzTx",
        "outputId": "31813c46-0199-4858-915a-6846a6780973"
      },
      "execution_count": null,
      "outputs": [
        {
          "output_type": "display_data",
          "data": {
            "text/plain": [
              "<Figure size 432x288 with 1 Axes>"
            ],
            "image/png": "[encoded data removed]"
          },
          "metadata": {
            "needs_background": "light"
          }
        }
      ]
    },
    {
      "cell_type": "markdown",
      "source": [
        "##Agglomerative Clustering"
      ],
      "metadata": {
        "id": "-3XsfUwesL41"
      }
    },
    {
      "cell_type": "code",
      "source": [
        "from sklearn.cluster import AgglomerativeClustering\n",
        "from sklearn.neighbors import kneighbors_graph\n",
        "\n",
        "connectivity = kneighbors_graph(df_new, n_neighbors=10, include_self=False)\n",
        "     \n",
        "\n",
        "model = AgglomerativeClustering(n_clusters=3, connectivity=connectivity, linkage='ward').fit(df_new) "
      ],
      "metadata": {
        "id": "FbaecPrDsC7K"
      },
      "execution_count": null,
      "outputs": []
    },
    {
      "cell_type": "code",
      "source": [
        "clusters = model.labels_.tolist()\n",
        "model.labels_ "
      ],
      "metadata": {
        "colab": {
          "base_uri": "https://localhost:8080/"
        },
        "id": "xLATgmcBsSGN",
        "outputId": "573d4bfa-def8-4916-dec2-2d72cf8eac41"
      },
      "execution_count": null,
      "outputs": [
        {
          "output_type": "execute_result",
          "data": {
            "text/plain": [
              "array([0, 2, 0, ..., 2, 0, 2])"
            ]
          },
          "metadata": {},
          "execution_count": 103
        }
      ]
    },
    {
      "cell_type": "code",
      "source": [
        "label = model.fit_predict(df_new)\n",
        "\n",
        "u_labels = np.unique(label)\n",
        "\n",
        "for i in u_labels:\n",
        "    plt.scatter(df_new[label == i , 0] , df_new[label == i , 1] , label = i)\n",
        "plt.legend()\n",
        "plt.show()\n",
        "     "
      ],
      "metadata": {
        "colab": {
          "base_uri": "https://localhost:8080/",
          "height": 265
        },
        "id": "bktYNYKMsUIP",
        "outputId": "0267c698-01ef-4f30-8a94-d87c990cd337"
      },
      "execution_count": null,
      "outputs": [
        {
          "output_type": "display_data",
          "data": {
            "text/plain": [
              "<Figure size 432x288 with 1 Axes>"
            ],
            "image/png": "[encoded data removed]"
          },
          "metadata": {
            "needs_background": "light"
          }
        }
      ]
    },
    {
      "cell_type": "code",
      "source": [
        "from sklearn import metrics\n",
        "print('ARI '+ str(metrics.adjusted_rand_score(train['label'], model.labels_)))"
      ],
      "metadata": {
        "colab": {
          "base_uri": "https://localhost:8080/"
        },
        "id": "TSV1rHnKsWcX",
        "outputId": "5e404c1b-909e-4ba7-8630-059bc63f44e7"
      },
      "execution_count": null,
      "outputs": [
        {
          "output_type": "stream",
          "name": "stdout",
          "text": [
            "ARI 0.12281250627469388\n"
          ]
        }
      ]
    },
    {
      "cell_type": "code",
      "source": [
        "print('AMI '+ str(metrics.adjusted_mutual_info_score(train['label'], model.labels_, average_method='arithmetic')))"
      ],
      "metadata": {
        "colab": {
          "base_uri": "https://localhost:8080/"
        },
        "id": "Po3KARM9sx1x",
        "outputId": "b779c065-e26e-4a3b-f2f5-7c989f31dbe3"
      },
      "execution_count": null,
      "outputs": [
        {
          "output_type": "stream",
          "name": "stdout",
          "text": [
            "AMI 0.12491654126033645\n"
          ]
        }
      ]
    },
    {
      "cell_type": "code",
      "source": [
        "print('Homogenity '+ str(metrics.homogeneity_score(train['label'], model.labels_)))"
      ],
      "metadata": {
        "colab": {
          "base_uri": "https://localhost:8080/"
        },
        "id": "JmrQqJ6JtNoL",
        "outputId": "1dcc615d-9b0f-4288-bac2-c56df6022dc3"
      },
      "execution_count": null,
      "outputs": [
        {
          "output_type": "stream",
          "name": "stdout",
          "text": [
            "Homogenity 0.15114631005367624\n"
          ]
        }
      ]
    }
  ]
}